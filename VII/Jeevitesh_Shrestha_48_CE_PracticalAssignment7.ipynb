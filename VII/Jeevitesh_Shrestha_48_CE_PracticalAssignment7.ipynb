{
 "cells": [
  {
   "cell_type": "markdown",
   "id": "53fa16e8",
   "metadata": {},
   "source": [
    "# Chapter 8: From Human Neurons to Artificial Neurons for Understanding Text"
   ]
  },
  {
   "cell_type": "markdown",
   "id": "d55976d6",
   "metadata": {},
   "source": [
    "## Let's talk Keras"
   ]
  },
  {
   "cell_type": "code",
   "execution_count": 1,
   "id": "7d8fad0e",
   "metadata": {},
   "outputs": [],
   "source": [
    "#importing and initializing the Sequential model\n",
    "from keras.models import Sequential\n",
    "model = Sequential()"
   ]
  },
  {
   "cell_type": "code",
   "execution_count": 2,
   "id": "fff11d21",
   "metadata": {},
   "outputs": [],
   "source": [
    "#adding layers to the sequential stack\n",
    "from keras.layers import Dense, Dropout\n",
    "model.add(Dense(units=64, activation='relu'))\n",
    "model.add(Dropout(0.3))"
   ]
  },
  {
   "cell_type": "code",
   "execution_count": 3,
   "id": "46877e4d",
   "metadata": {},
   "outputs": [],
   "source": [
    "#compiling our model and specifying loss function and optimizer\n",
    "model.compile(loss='binary_crossentropy',optimizer= 'adam', metrics=['accuracy'])"
   ]
  },
  {
   "cell_type": "markdown",
   "id": "91898b79",
   "metadata": {},
   "source": [
    "## Building a question classifier using neural networks"
   ]
  },
  {
   "cell_type": "markdown",
   "id": "07af8d26",
   "metadata": {},
   "source": [
    "#### 1) Importing the basic libraries"
   ]
  },
  {
   "cell_type": "code",
   "execution_count": 4,
   "id": "d0a36164",
   "metadata": {},
   "outputs": [],
   "source": [
    "import nltk\n",
    "from nltk.corpus import stopwords\n",
    "from nltk.stem.porter import PorterStemmer \n",
    "from nltk.stem.snowball import SnowballStemmer\n",
    "from nltk.stem.wordnet import WordNetLemmatizer\n",
    "import pandas as pd\n",
    "import re\n",
    "import numpy as np\n",
    "from sklearn.feature_extraction.text import TfidfVectorizer\n",
    "from sklearn.preprocessing import LabelEncoder"
   ]
  },
  {
   "cell_type": "markdown",
   "id": "f1955634",
   "metadata": {},
   "source": [
    "#### 2) Reading the dataset"
   ]
  },
  {
   "cell_type": "code",
   "execution_count": 5,
   "id": "79c4e93a",
   "metadata": {},
   "outputs": [],
   "source": [
    "train_data = open('training_data.txt', 'r+')\n",
    "test_data = open('test_dataset.txt', 'r+')\n",
    "\n",
    "train = pd.DataFrame(train_data.readlines(), columns = ['Question'])\n",
    "test = pd.DataFrame(test_data.readlines(), columns = ['Question'])"
   ]
  },
  {
   "cell_type": "markdown",
   "id": "d88cb1c5",
   "metadata": {},
   "source": [
    "#### 3) Checking some data"
   ]
  },
  {
   "cell_type": "code",
   "execution_count": 6,
   "id": "cb422ad9",
   "metadata": {},
   "outputs": [
    {
     "data": {
      "text/html": [
       "<div>\n",
       "<style scoped>\n",
       "    .dataframe tbody tr th:only-of-type {\n",
       "        vertical-align: middle;\n",
       "    }\n",
       "\n",
       "    .dataframe tbody tr th {\n",
       "        vertical-align: top;\n",
       "    }\n",
       "\n",
       "    .dataframe thead th {\n",
       "        text-align: right;\n",
       "    }\n",
       "</style>\n",
       "<table border=\"1\" class=\"dataframe\">\n",
       "  <thead>\n",
       "    <tr style=\"text-align: right;\">\n",
       "      <th></th>\n",
       "      <th>Question</th>\n",
       "    </tr>\n",
       "  </thead>\n",
       "  <tbody>\n",
       "    <tr>\n",
       "      <th>0</th>\n",
       "      <td>DESC:manner How did serfdom develop in and the...</td>\n",
       "    </tr>\n",
       "    <tr>\n",
       "      <th>1</th>\n",
       "      <td>ENTY:cremat What films featured the character ...</td>\n",
       "    </tr>\n",
       "    <tr>\n",
       "      <th>2</th>\n",
       "      <td>DESC:manner How can I find a list of celebriti...</td>\n",
       "    </tr>\n",
       "    <tr>\n",
       "      <th>3</th>\n",
       "      <td>ENTY:animal What fowl grabs the spotlight afte...</td>\n",
       "    </tr>\n",
       "    <tr>\n",
       "      <th>4</th>\n",
       "      <td>ABBR:exp What is the full form of .com ?\\n</td>\n",
       "    </tr>\n",
       "  </tbody>\n",
       "</table>\n",
       "</div>"
      ],
      "text/plain": [
       "                                            Question\n",
       "0  DESC:manner How did serfdom develop in and the...\n",
       "1  ENTY:cremat What films featured the character ...\n",
       "2  DESC:manner How can I find a list of celebriti...\n",
       "3  ENTY:animal What fowl grabs the spotlight afte...\n",
       "4         ABBR:exp What is the full form of .com ?\\n"
      ]
     },
     "execution_count": 6,
     "metadata": {},
     "output_type": "execute_result"
    }
   ],
   "source": [
    "train.head()"
   ]
  },
  {
   "cell_type": "markdown",
   "id": "ad991dec",
   "metadata": {},
   "source": [
    "#### 4) Splitting the data points to obtain question strings and coarse and fine question categories"
   ]
  },
  {
   "cell_type": "code",
   "execution_count": 7,
   "id": "2fa5efb3",
   "metadata": {},
   "outputs": [],
   "source": [
    "train['QType'] = train.Question.apply(lambda x: x.split(' ', 1)[0])\n",
    "train['Question'] = train.Question.apply(lambda x: x.split(' ', 1)[1])\n",
    "train['QType-Coarse'] = train.QType.apply(lambda x: x.split(':')[0])\n",
    "train['QType-Fine'] = train.QType.apply(lambda x: x.split(':')[1])\n",
    "test['QType'] = test.Question.apply(lambda x: x.split(' ', 1)[0])\n",
    "test['Question'] = test.Question.apply(lambda x: x.split(' ', 1)[1])\n",
    "test['QType-Coarse'] = test.QType.apply(lambda x: x.split(':')[0])\n",
    "test['QType-Fine'] = test.QType.apply(lambda x: x.split(':')[1])"
   ]
  },
  {
   "cell_type": "markdown",
   "id": "a454beb8",
   "metadata": {},
   "source": [
    "#### 5) Checking cleaned dataset"
   ]
  },
  {
   "cell_type": "code",
   "execution_count": 8,
   "id": "a4b6670a",
   "metadata": {},
   "outputs": [
    {
     "data": {
      "text/html": [
       "<div>\n",
       "<style scoped>\n",
       "    .dataframe tbody tr th:only-of-type {\n",
       "        vertical-align: middle;\n",
       "    }\n",
       "\n",
       "    .dataframe tbody tr th {\n",
       "        vertical-align: top;\n",
       "    }\n",
       "\n",
       "    .dataframe thead th {\n",
       "        text-align: right;\n",
       "    }\n",
       "</style>\n",
       "<table border=\"1\" class=\"dataframe\">\n",
       "  <thead>\n",
       "    <tr style=\"text-align: right;\">\n",
       "      <th></th>\n",
       "      <th>Question</th>\n",
       "      <th>QType</th>\n",
       "      <th>QType-Coarse</th>\n",
       "      <th>QType-Fine</th>\n",
       "    </tr>\n",
       "  </thead>\n",
       "  <tbody>\n",
       "    <tr>\n",
       "      <th>0</th>\n",
       "      <td>How did serfdom develop in and then leave Russ...</td>\n",
       "      <td>DESC:manner</td>\n",
       "      <td>DESC</td>\n",
       "      <td>manner</td>\n",
       "    </tr>\n",
       "    <tr>\n",
       "      <th>1</th>\n",
       "      <td>What films featured the character Popeye Doyle...</td>\n",
       "      <td>ENTY:cremat</td>\n",
       "      <td>ENTY</td>\n",
       "      <td>cremat</td>\n",
       "    </tr>\n",
       "    <tr>\n",
       "      <th>2</th>\n",
       "      <td>How can I find a list of celebrities ' real na...</td>\n",
       "      <td>DESC:manner</td>\n",
       "      <td>DESC</td>\n",
       "      <td>manner</td>\n",
       "    </tr>\n",
       "    <tr>\n",
       "      <th>3</th>\n",
       "      <td>What fowl grabs the spotlight after the Chines...</td>\n",
       "      <td>ENTY:animal</td>\n",
       "      <td>ENTY</td>\n",
       "      <td>animal</td>\n",
       "    </tr>\n",
       "    <tr>\n",
       "      <th>4</th>\n",
       "      <td>What is the full form of .com ?\\n</td>\n",
       "      <td>ABBR:exp</td>\n",
       "      <td>ABBR</td>\n",
       "      <td>exp</td>\n",
       "    </tr>\n",
       "  </tbody>\n",
       "</table>\n",
       "</div>"
      ],
      "text/plain": [
       "                                            Question        QType  \\\n",
       "0  How did serfdom develop in and then leave Russ...  DESC:manner   \n",
       "1  What films featured the character Popeye Doyle...  ENTY:cremat   \n",
       "2  How can I find a list of celebrities ' real na...  DESC:manner   \n",
       "3  What fowl grabs the spotlight after the Chines...  ENTY:animal   \n",
       "4                  What is the full form of .com ?\\n     ABBR:exp   \n",
       "\n",
       "  QType-Coarse QType-Fine  \n",
       "0         DESC     manner  \n",
       "1         ENTY     cremat  \n",
       "2         DESC     manner  \n",
       "3         ENTY     animal  \n",
       "4         ABBR        exp  "
      ]
     },
     "execution_count": 8,
     "metadata": {},
     "output_type": "execute_result"
    }
   ],
   "source": [
    "train.head()"
   ]
  },
  {
   "cell_type": "markdown",
   "id": "5b7ae66b",
   "metadata": {},
   "source": [
    "#### 6) Removing the QType and QType-Fine variables, as our focus is on predicting the coarse classes"
   ]
  },
  {
   "cell_type": "code",
   "execution_count": 9,
   "id": "a8715d6f",
   "metadata": {},
   "outputs": [
    {
     "data": {
      "text/plain": [
       "0           dist\n",
       "1           city\n",
       "2           desc\n",
       "3            def\n",
       "4           date\n",
       "         ...    \n",
       "495          ind\n",
       "496     currency\n",
       "497        count\n",
       "498    substance\n",
       "499          def\n",
       "Name: QType-Fine, Length: 500, dtype: object"
      ]
     },
     "execution_count": 9,
     "metadata": {},
     "output_type": "execute_result"
    }
   ],
   "source": [
    "train.pop('QType')\n",
    "train.pop('QType-Fine')\n",
    "test.pop('QType')\n",
    "test.pop('QType-Fine')"
   ]
  },
  {
   "cell_type": "code",
   "execution_count": 10,
   "id": "6bb34c2e",
   "metadata": {},
   "outputs": [
    {
     "data": {
      "text/html": [
       "<div>\n",
       "<style scoped>\n",
       "    .dataframe tbody tr th:only-of-type {\n",
       "        vertical-align: middle;\n",
       "    }\n",
       "\n",
       "    .dataframe tbody tr th {\n",
       "        vertical-align: top;\n",
       "    }\n",
       "\n",
       "    .dataframe thead th {\n",
       "        text-align: right;\n",
       "    }\n",
       "</style>\n",
       "<table border=\"1\" class=\"dataframe\">\n",
       "  <thead>\n",
       "    <tr style=\"text-align: right;\">\n",
       "      <th></th>\n",
       "      <th>Question</th>\n",
       "      <th>QType-Coarse</th>\n",
       "    </tr>\n",
       "  </thead>\n",
       "  <tbody>\n",
       "    <tr>\n",
       "      <th>0</th>\n",
       "      <td>How did serfdom develop in and then leave Russ...</td>\n",
       "      <td>DESC</td>\n",
       "    </tr>\n",
       "    <tr>\n",
       "      <th>1</th>\n",
       "      <td>What films featured the character Popeye Doyle...</td>\n",
       "      <td>ENTY</td>\n",
       "    </tr>\n",
       "    <tr>\n",
       "      <th>2</th>\n",
       "      <td>How can I find a list of celebrities ' real na...</td>\n",
       "      <td>DESC</td>\n",
       "    </tr>\n",
       "    <tr>\n",
       "      <th>3</th>\n",
       "      <td>What fowl grabs the spotlight after the Chines...</td>\n",
       "      <td>ENTY</td>\n",
       "    </tr>\n",
       "    <tr>\n",
       "      <th>4</th>\n",
       "      <td>What is the full form of .com ?\\n</td>\n",
       "      <td>ABBR</td>\n",
       "    </tr>\n",
       "  </tbody>\n",
       "</table>\n",
       "</div>"
      ],
      "text/plain": [
       "                                            Question QType-Coarse\n",
       "0  How did serfdom develop in and then leave Russ...         DESC\n",
       "1  What films featured the character Popeye Doyle...         ENTY\n",
       "2  How can I find a list of celebrities ' real na...         DESC\n",
       "3  What fowl grabs the spotlight after the Chines...         ENTY\n",
       "4                  What is the full form of .com ?\\n         ABBR"
      ]
     },
     "execution_count": 10,
     "metadata": {},
     "output_type": "execute_result"
    }
   ],
   "source": [
    "train.head()"
   ]
  },
  {
   "cell_type": "markdown",
   "id": "44ffc9aa",
   "metadata": {},
   "source": [
    "#### 7) Checking the different classes in our dataset"
   ]
  },
  {
   "cell_type": "code",
   "execution_count": 11,
   "id": "7107e0da",
   "metadata": {},
   "outputs": [
    {
     "data": {
      "text/plain": [
       "array(['ABBR', 'DESC', 'ENTY', 'HUM', 'LOC', 'NUM'], dtype=object)"
      ]
     },
     "execution_count": 11,
     "metadata": {},
     "output_type": "execute_result"
    }
   ],
   "source": [
    "classes = np.unique(np.array(train['QType-Coarse']))\n",
    "classes"
   ]
  },
  {
   "cell_type": "markdown",
   "id": "1cd2ae24",
   "metadata": {},
   "source": [
    "#### 8) Using label encoding to convert classes into integral identfiers"
   ]
  },
  {
   "cell_type": "code",
   "execution_count": 12,
   "id": "38b72b2f",
   "metadata": {},
   "outputs": [],
   "source": [
    "le = LabelEncoder()\n",
    "le.fit(pd.Series(train['QType-Coarse'].tolist() + test['QType-Coarse'].tolist()).values)\n",
    "train['QType-Coarse'] = le.transform(train['QType-Coarse'].values)\n",
    "test['QType-Coarse'] = le.transform(test['QType-Coarse'].values)"
   ]
  },
  {
   "cell_type": "markdown",
   "id": "f151395c",
   "metadata": {},
   "source": [
    "#### 9) Preprocessing our dataset"
   ]
  },
  {
   "cell_type": "code",
   "execution_count": 13,
   "id": "a155393c",
   "metadata": {},
   "outputs": [],
   "source": [
    "#The different process present in the pipeline\n",
    "\n",
    "def text_clean(corpus):\n",
    "    cleaned_corpus = pd.Series()\n",
    "    for row in corpus:\n",
    "        qs = []\n",
    "        for word in row.split():\n",
    "            p1 = re.sub(pattern='[^a-zA-Z]',repl=' ',string=word)\n",
    "            p1 = p1.lower()\n",
    "            qs.append(p1)\n",
    "        cleaned_corpus = cleaned_corpus.append(pd.Series(' '.join(qs)))\n",
    "    return cleaned_corpus\n",
    "\n",
    "def stopwords_removal(corpus):\n",
    "    wh_words = ['who', 'what', 'when', 'why', 'how', 'which', 'where', 'whom']\n",
    "    stop = set(stopwords.words('english'))\n",
    "    for word in wh_words:\n",
    "        stop.remove(word)\n",
    "    corpus = [[x for x in x.split() if x not in stop] for x in corpus]\n",
    "    return corpus\n",
    "\n",
    "def lemmatize(corpus):\n",
    "    lem = WordNetLemmatizer()\n",
    "    corpus = [[lem.lemmatize(x, pos = 'v') for x in x] for x in corpus]\n",
    "    return corpus\n",
    "\n",
    "def stem(corpus, stem_type = None):\n",
    "    if stem_type == 'snowball':\n",
    "        stemmer = SnowballStemmer(language = 'english')\n",
    "        corpus = [[stemmer.stem(x) for x in x] for x in corpus]\n",
    "    else :\n",
    "        stemmer = PorterStemmer()\n",
    "        corpus = [[stemmer.stem(x) for x in x] for x in corpus]\n",
    "    return corpus\n",
    "\n",
    "def preprocess(corpus, cleaning = True, stemming = False, stem_type = None, lemmatization = False, remove_stopwords = True):\n",
    "    if cleaning == True:\n",
    "        corpus = text_clean(corpus)\n",
    "    \n",
    "    if remove_stopwords == True:\n",
    "        corpus = stopwords_removal(corpus)\n",
    "    else :\n",
    "        corpus = [[x for x in x.split()] for x in corpus]\n",
    "    \n",
    "    if lemmatization == True:\n",
    "        corpus = lemmatize(corpus)\n",
    "        \n",
    "        \n",
    "    if stemming == True:\n",
    "        corpus = stem(corpus, stem_type)\n",
    "    \n",
    "    corpus = [' '.join(x) for x in corpus]\n",
    "        \n",
    "\n",
    "    return corpus"
   ]
  },
  {
   "cell_type": "code",
   "execution_count": 14,
   "id": "6eeeb82f",
   "metadata": {},
   "outputs": [
    {
     "name": "stderr",
     "output_type": "stream",
     "text": [
      "<ipython-input-13-e4784220dcbd>:4: DeprecationWarning: The default dtype for empty Series will be 'object' instead of 'float64' in a future version. Specify a dtype explicitly to silence this warning.\n",
      "  cleaned_corpus = pd.Series()\n"
     ]
    }
   ],
   "source": [
    "all_corpus = pd.Series(train.Question.tolist() + test.Question.tolist()).astype(str)\n",
    "all_corpus = preprocess(all_corpus, remove_stopwords = True)"
   ]
  },
  {
   "cell_type": "markdown",
   "id": "4d0ec51d",
   "metadata": {},
   "source": [
    "#### 10) Splitting our data into training and testings sets"
   ]
  },
  {
   "cell_type": "code",
   "execution_count": 15,
   "id": "4b227d8b",
   "metadata": {},
   "outputs": [],
   "source": [
    "train_corpus = all_corpus[0:train.shape[0]]\n",
    "test_corpus = all_corpus[train.shape[0]:]"
   ]
  },
  {
   "cell_type": "markdown",
   "id": "f7698431",
   "metadata": {},
   "source": [
    "#### 11) Vectorizing our text data using TD-IDF"
   ]
  },
  {
   "cell_type": "code",
   "execution_count": 16,
   "id": "5c2bbb89",
   "metadata": {},
   "outputs": [],
   "source": [
    "vectorizer = TfidfVectorizer()\n",
    "tf_idf_matrix_train = vectorizer.fit_transform(train_corpus)\n",
    "tf_idf_matrix_test = vectorizer.transform(test_corpus)"
   ]
  },
  {
   "cell_type": "markdown",
   "id": "1a018452",
   "metadata": {},
   "source": [
    "#### 12) Importing Keras and various libraries"
   ]
  },
  {
   "cell_type": "code",
   "execution_count": 17,
   "id": "b59b6194",
   "metadata": {},
   "outputs": [],
   "source": [
    "import tensorflow as tf\n",
    "from tensorflow import keras\n",
    "from tensorflow.keras.models import Sequential, Model \n",
    "from tensorflow.keras import layers\n",
    "from tensorflow.keras.layers import Dense, Dropout, Input\n",
    "from keras.utils import np_utils"
   ]
  },
  {
   "cell_type": "markdown",
   "id": "a3cf63ea",
   "metadata": {},
   "source": [
    "#### 13) One hot encoding class labels"
   ]
  },
  {
   "cell_type": "code",
   "execution_count": 18,
   "id": "903c3cd0",
   "metadata": {},
   "outputs": [],
   "source": [
    "y_train = np_utils.to_categorical(train['QType-Coarse'], train['QType-Coarse'].nunique())\n",
    "y_test = np_utils.to_categorical(test['QType-Coarse'], train['QType-Coarse'].nunique())"
   ]
  },
  {
   "cell_type": "markdown",
   "id": "49e10973",
   "metadata": {},
   "source": [
    "#### 14) Defining the network architecture"
   ]
  },
  {
   "cell_type": "code",
   "execution_count": 19,
   "id": "549be3a9",
   "metadata": {},
   "outputs": [
    {
     "name": "stdout",
     "output_type": "stream",
     "text": [
      "Model: \"sequential\"\n",
      "_________________________________________________________________\n",
      "Layer (type)                 Output Shape              Param #   \n",
      "=================================================================\n",
      "dense (Dense)                (None, 128)               1027968   \n",
      "_________________________________________________________________\n",
      "dropout (Dropout)            (None, 128)               0         \n",
      "_________________________________________________________________\n",
      "dense_1 (Dense)              (None, 6)                 774       \n",
      "=================================================================\n",
      "Total params: 1,028,742\n",
      "Trainable params: 1,028,742\n",
      "Non-trainable params: 0\n",
      "_________________________________________________________________\n"
     ]
    }
   ],
   "source": [
    "model = Sequential()\n",
    "\n",
    "model.add(Dense(128, activation='relu', input_dim=tf_idf_matrix_train.shape[1]))\n",
    "model.add(Dropout(0.3))\n",
    "model.add(Dense(6, activation='softmax'))\n",
    "model.compile(optimizer='adam', loss='categorical_crossentropy', metrics=['categorical_accuracy'])\n",
    "model.summary()"
   ]
  },
  {
   "cell_type": "markdown",
   "id": "69d13021",
   "metadata": {},
   "source": [
    "#### 15) Training the model"
   ]
  },
  {
   "cell_type": "code",
   "execution_count": 20,
   "id": "57019d68",
   "metadata": {},
   "outputs": [],
   "source": [
    "def convert_sparse_matrix_to_sparse_tensor(X):\n",
    "    coo = X.tocoo()\n",
    "    indices = np.mat([coo.row, coo.col]).transpose()\n",
    "    return tf.SparseTensor(indices, coo.data, coo.shape)"
   ]
  },
  {
   "cell_type": "code",
   "execution_count": 21,
   "id": "a0fa152c",
   "metadata": {},
   "outputs": [],
   "source": [
    " tf_idf_matrix_train=convert_sparse_matrix_to_sparse_tensor(tf_idf_matrix_train)"
   ]
  },
  {
   "cell_type": "code",
   "execution_count": 22,
   "id": "1daa3be3",
   "metadata": {},
   "outputs": [],
   "source": [
    " tf_idf_matrix_train= tf.sparse.reorder(tf_idf_matrix_train)"
   ]
  },
  {
   "cell_type": "code",
   "execution_count": 23,
   "id": "6d60e328",
   "metadata": {},
   "outputs": [
    {
     "name": "stdout",
     "output_type": "stream",
     "text": [
      "Epoch 1/10\n"
     ]
    },
    {
     "name": "stderr",
     "output_type": "stream",
     "text": [
      "c:\\users\\jeevi\\appdata\\local\\programs\\python\\python39\\lib\\site-packages\\tensorflow\\python\\framework\\indexed_slices.py:447: UserWarning: Converting sparse IndexedSlices(IndexedSlices(indices=Tensor(\"gradient_tape/sequential/dense/embedding_lookup_sparse/Reshape_1:0\", shape=(None,), dtype=int32), values=Tensor(\"gradient_tape/sequential/dense/embedding_lookup_sparse/Reshape:0\", shape=(None, 128), dtype=float32), dense_shape=Tensor(\"gradient_tape/sequential/dense/embedding_lookup_sparse/Cast:0\", shape=(2,), dtype=int32))) to a dense Tensor of unknown shape. This may consume a large amount of memory.\n",
      "  warnings.warn(\n"
     ]
    },
    {
     "name": "stdout",
     "output_type": "stream",
     "text": [
      "55/55 [==============================] - 1s 11ms/step - loss: 1.7010 - categorical_accuracy: 0.4334\n",
      "Epoch 2/10\n",
      "55/55 [==============================] - 1s 11ms/step - loss: 1.3639 - categorical_accuracy: 0.6999\n",
      "Epoch 3/10\n",
      "55/55 [==============================] - 1s 10ms/step - loss: 0.9133 - categorical_accuracy: 0.8841\n",
      "Epoch 4/10\n",
      "55/55 [==============================] - 1s 11ms/step - loss: 0.5630 - categorical_accuracy: 0.9323\n",
      "Epoch 5/10\n",
      "55/55 [==============================] - 1s 10ms/step - loss: 0.3609 - categorical_accuracy: 0.9530\n",
      "Epoch 6/10\n",
      "55/55 [==============================] - 1s 11ms/step - loss: 0.2476 - categorical_accuracy: 0.9727\n",
      "Epoch 7/10\n",
      "55/55 [==============================] - 1s 10ms/step - loss: 0.1770 - categorical_accuracy: 0.9815\n",
      "Epoch 8/10\n",
      "55/55 [==============================] - 1s 12ms/step - loss: 0.1320 - categorical_accuracy: 0.9861\n",
      "Epoch 9/10\n",
      "55/55 [==============================] - 1s 11ms/step - loss: 0.1014 - categorical_accuracy: 0.9903\n",
      "Epoch 10/10\n",
      "55/55 [==============================] - 1s 11ms/step - loss: 0.0797 - categorical_accuracy: 0.9932\n"
     ]
    }
   ],
   "source": [
    "training_history = model.fit(tf_idf_matrix_train, y_train, epochs=10, batch_size=100)"
   ]
  },
  {
   "cell_type": "markdown",
   "id": "ba7a000e",
   "metadata": {},
   "source": [
    "#### 16) Evaluating the model using \"accuracy\" as the metric"
   ]
  },
  {
   "cell_type": "code",
   "execution_count": 24,
   "id": "cb9c3ff9",
   "metadata": {},
   "outputs": [],
   "source": [
    "tf_idf_matrix_test=convert_sparse_matrix_to_sparse_tensor(tf_idf_matrix_test)\n",
    "tf_idf_matrix_test= tf.sparse.reorder(tf_idf_matrix_test)"
   ]
  },
  {
   "cell_type": "code",
   "execution_count": 25,
   "id": "887ef614",
   "metadata": {},
   "outputs": [
    {
     "name": "stdout",
     "output_type": "stream",
     "text": [
      "Testing Accuracy: 0.8580\n"
     ]
    }
   ],
   "source": [
    "loss, accuracy = model.evaluate(tf_idf_matrix_test, y_test, verbose=False)\n",
    "print(\"Testing Accuracy: {:.4f}\".format(accuracy))"
   ]
  },
  {
   "cell_type": "markdown",
   "id": "7d192d03",
   "metadata": {},
   "source": [
    "#### 17) Saving the model architecture and weights"
   ]
  },
  {
   "cell_type": "code",
   "execution_count": 26,
   "id": "1f91bdd8",
   "metadata": {},
   "outputs": [],
   "source": [
    "import h5py\n",
    "model_structure = model.to_json()\n",
    "with open(\"question_classification_model.json\", \"w\") as json_file:\n",
    "    json_file.write(model_structure)\n",
    "    \n",
    "model.save_weights(\"question_classification_weights.h5\")"
   ]
  }
 ],
 "metadata": {
  "kernelspec": {
   "display_name": "Python 3",
   "language": "python",
   "name": "python3"
  },
  "language_info": {
   "codemirror_mode": {
    "name": "ipython",
    "version": 3
   },
   "file_extension": ".py",
   "mimetype": "text/x-python",
   "name": "python",
   "nbconvert_exporter": "python",
   "pygments_lexer": "ipython3",
   "version": "3.9.5"
  }
 },
 "nbformat": 4,
 "nbformat_minor": 5
}
