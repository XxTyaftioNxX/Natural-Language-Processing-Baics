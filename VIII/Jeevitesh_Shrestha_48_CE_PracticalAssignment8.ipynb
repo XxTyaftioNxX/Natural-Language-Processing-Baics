{
 "cells": [
  {
   "cell_type": "markdown",
   "id": "1b999f77-5a6b-4911-88e8-ef143b7ba5bf",
   "metadata": {
    "id": "1b999f77-5a6b-4911-88e8-ef143b7ba5bf"
   },
   "source": [
    "# Applying Convolutions to Text\n",
    "## What is a CNN?\n",
    "CNNs try to capture the spatial relationships in data which are ideally suited for capturing patterns in images since images have spatial relationships in those pixels that are in the same vicinity contribute to making sense of the object."
   ]
  },
  {
   "cell_type": "markdown",
   "id": "c0194e0c-5ca7-4cc5-be76-789f1758b7d0",
   "metadata": {
    "id": "c0194e0c-5ca7-4cc5-be76-789f1758b7d0",
    "tags": []
   },
   "source": [
    "## Detecting sarcasm in text using CNNs\n"
   ]
  },
  {
   "cell_type": "markdown",
   "id": "4ba53729-7b95-47f4-8072-d3d09422368b",
   "metadata": {
    "id": "4ba53729-7b95-47f4-8072-d3d09422368b"
   },
   "source": [
    "### Loading the libraries and the dataset"
   ]
  },
  {
   "cell_type": "markdown",
   "id": "51e12497",
   "metadata": {},
   "source": [
    "#### 1) Importing the various libraries that we will use"
   ]
  },
  {
   "cell_type": "code",
   "execution_count": 1,
   "id": "ccdf4dc6-7e98-4df2-bdca-93f4ea9a450f",
   "metadata": {
    "id": "ccdf4dc6-7e98-4df2-bdca-93f4ea9a450f",
    "outputId": "b1ca3bea-ff80-48a1-e743-58def2916bc4"
   },
   "outputs": [],
   "source": [
    "import pandas as pd\n",
    "import numpy as np\n",
    "import re\n",
    "import json\n",
    "import gensim\n",
    "import math\n",
    "import nltk\n",
    "from nltk.corpus import stopwords\n",
    "from nltk.stem.porter import PorterStemmer \n",
    "from nltk.stem.snowball import SnowballStemmer\n",
    "from nltk.stem.wordnet import WordNetLemmatizer\n",
    "from gensim.models import KeyedVectors\n",
    "import keras \n",
    "from keras.models import Sequential, Model \n",
    "from keras import layers\n",
    "from keras.layers import Dense, Dropout, Conv1D, GlobalMaxPooling1D\n",
    "import h5py"
   ]
  },
  {
   "cell_type": "markdown",
   "id": "e95e94d5-bac6-45b6-a0b0-ac07093404a6",
   "metadata": {
    "id": "e95e94d5-bac6-45b6-a0b0-ac07093404a6"
   },
   "source": [
    "#### 2) Reading the data"
   ]
  },
  {
   "cell_type": "code",
   "execution_count": 2,
   "id": "bfaaa85f-2a6e-48a5-9d6d-51a1b3fbedfb",
   "metadata": {
    "id": "bfaaa85f-2a6e-48a5-9d6d-51a1b3fbedfb"
   },
   "outputs": [],
   "source": [
    "def parse_data(file):\n",
    "    for l in open(file,'r'):\n",
    "        yield json.loads(l)"
   ]
  },
  {
   "cell_type": "code",
   "execution_count": 3,
   "id": "2d32bbfb-fc01-4fc9-8560-86863b3c2b04",
   "metadata": {
    "id": "2d32bbfb-fc01-4fc9-8560-86863b3c2b04"
   },
   "outputs": [],
   "source": [
    "data = list(parse_data('Sarcasm_Headlines_Dataset_v2.json'))\n",
    "df = pd.DataFrame(data)"
   ]
  },
  {
   "cell_type": "markdown",
   "id": "78086976-d91f-4f75-aec2-fce35cf3d7a8",
   "metadata": {
    "id": "78086976-d91f-4f75-aec2-fce35cf3d7a8"
   },
   "source": [
    "### Performing basic data analysis and preprocessing our data\n",
    "#### Basic Data Understanding"
   ]
  },
  {
   "cell_type": "code",
   "execution_count": 4,
   "id": "c347ca61-3b6e-46ca-b75e-20bc47754df4",
   "metadata": {
    "id": "c347ca61-3b6e-46ca-b75e-20bc47754df4",
    "outputId": "6831b837-b89f-4a00-dd34-1b7bbb2b3e3d"
   },
   "outputs": [
    {
     "data": {
      "text/html": [
       "<div>\n",
       "<style scoped>\n",
       "    .dataframe tbody tr th:only-of-type {\n",
       "        vertical-align: middle;\n",
       "    }\n",
       "\n",
       "    .dataframe tbody tr th {\n",
       "        vertical-align: top;\n",
       "    }\n",
       "\n",
       "    .dataframe thead th {\n",
       "        text-align: right;\n",
       "    }\n",
       "</style>\n",
       "<table border=\"1\" class=\"dataframe\">\n",
       "  <thead>\n",
       "    <tr style=\"text-align: right;\">\n",
       "      <th></th>\n",
       "      <th>is_sarcastic</th>\n",
       "      <th>headline</th>\n",
       "      <th>article_link</th>\n",
       "    </tr>\n",
       "  </thead>\n",
       "  <tbody>\n",
       "    <tr>\n",
       "      <th>0</th>\n",
       "      <td>1</td>\n",
       "      <td>thirtysomething scientists unveil doomsday clo...</td>\n",
       "      <td>https://www.theonion.com/thirtysomething-scien...</td>\n",
       "    </tr>\n",
       "    <tr>\n",
       "      <th>1</th>\n",
       "      <td>0</td>\n",
       "      <td>dem rep. totally nails why congress is falling...</td>\n",
       "      <td>https://www.huffingtonpost.com/entry/donna-edw...</td>\n",
       "    </tr>\n",
       "    <tr>\n",
       "      <th>2</th>\n",
       "      <td>0</td>\n",
       "      <td>eat your veggies: 9 deliciously different recipes</td>\n",
       "      <td>https://www.huffingtonpost.com/entry/eat-your-...</td>\n",
       "    </tr>\n",
       "    <tr>\n",
       "      <th>3</th>\n",
       "      <td>1</td>\n",
       "      <td>inclement weather prevents liar from getting t...</td>\n",
       "      <td>https://local.theonion.com/inclement-weather-p...</td>\n",
       "    </tr>\n",
       "    <tr>\n",
       "      <th>4</th>\n",
       "      <td>1</td>\n",
       "      <td>mother comes pretty close to using word 'strea...</td>\n",
       "      <td>https://www.theonion.com/mother-comes-pretty-c...</td>\n",
       "    </tr>\n",
       "  </tbody>\n",
       "</table>\n",
       "</div>"
      ],
      "text/plain": [
       "   is_sarcastic                                           headline  \\\n",
       "0             1  thirtysomething scientists unveil doomsday clo...   \n",
       "1             0  dem rep. totally nails why congress is falling...   \n",
       "2             0  eat your veggies: 9 deliciously different recipes   \n",
       "3             1  inclement weather prevents liar from getting t...   \n",
       "4             1  mother comes pretty close to using word 'strea...   \n",
       "\n",
       "                                        article_link  \n",
       "0  https://www.theonion.com/thirtysomething-scien...  \n",
       "1  https://www.huffingtonpost.com/entry/donna-edw...  \n",
       "2  https://www.huffingtonpost.com/entry/eat-your-...  \n",
       "3  https://local.theonion.com/inclement-weather-p...  \n",
       "4  https://www.theonion.com/mother-comes-pretty-c...  "
      ]
     },
     "execution_count": 4,
     "metadata": {},
     "output_type": "execute_result"
    }
   ],
   "source": [
    "df.head(5)"
   ]
  },
  {
   "cell_type": "markdown",
   "id": "3cf56e8b-567d-4e0f-95ff-7bda9e72c3bc",
   "metadata": {
    "id": "3cf56e8b-567d-4e0f-95ff-7bda9e72c3bc"
   },
   "source": [
    "#### Eliminating article_link column from the data"
   ]
  },
  {
   "cell_type": "code",
   "execution_count": 5,
   "id": "edfd401c-9e42-41a7-b08c-f9d7d56e207e",
   "metadata": {
    "id": "edfd401c-9e42-41a7-b08c-f9d7d56e207e",
    "outputId": "1f41a007-33e5-492c-afbf-46c142ef38d0"
   },
   "outputs": [
    {
     "data": {
      "text/plain": [
       "0        https://www.theonion.com/thirtysomething-scien...\n",
       "1        https://www.huffingtonpost.com/entry/donna-edw...\n",
       "2        https://www.huffingtonpost.com/entry/eat-your-...\n",
       "3        https://local.theonion.com/inclement-weather-p...\n",
       "4        https://www.theonion.com/mother-comes-pretty-c...\n",
       "                               ...                        \n",
       "28614    https://www.theonion.com/jews-to-celebrate-ros...\n",
       "28615    https://local.theonion.com/internal-affairs-in...\n",
       "28616    https://www.huffingtonpost.com/entry/andrew-ah...\n",
       "28617    https://www.theonion.com/mars-probe-destroyed-...\n",
       "28618    https://www.theonion.com/dad-clarifies-this-no...\n",
       "Name: article_link, Length: 28619, dtype: object"
      ]
     },
     "execution_count": 5,
     "metadata": {},
     "output_type": "execute_result"
    }
   ],
   "source": [
    "df.pop('article_link')"
   ]
  },
  {
   "cell_type": "code",
   "execution_count": 6,
   "id": "df472b66-a1b9-41b2-ba1b-d217bbd98d07",
   "metadata": {
    "id": "df472b66-a1b9-41b2-ba1b-d217bbd98d07",
    "outputId": "5d38520c-deff-4fa2-e135-3a7942af9cbb"
   },
   "outputs": [
    {
     "data": {
      "text/plain": [
       "28619"
      ]
     },
     "execution_count": 6,
     "metadata": {},
     "output_type": "execute_result"
    }
   ],
   "source": [
    "#Checking the size of the data\n",
    "len(df)"
   ]
  },
  {
   "cell_type": "markdown",
   "id": "9a2938e2-3d97-4106-8d84-e256b1efefc3",
   "metadata": {
    "id": "9a2938e2-3d97-4106-8d84-e256b1efefc3"
   },
   "source": [
    "#### Data preprocessing using the same pipeline that we've used"
   ]
  },
  {
   "cell_type": "code",
   "execution_count": 7,
   "id": "1f60909d-5841-4176-8bd5-51b326b95174",
   "metadata": {
    "id": "1f60909d-5841-4176-8bd5-51b326b95174"
   },
   "outputs": [],
   "source": [
    "def text_clean(corpus):\n",
    "    cleaned_corpus = pd.Series()\n",
    "    for row in corpus:\n",
    "        qs = []\n",
    "        for word in row.split():\n",
    "            p1 = re.sub(pattern='[^a-zA-Z0-9]',repl=' ',string=word)\n",
    "            p1 = p1.lower()\n",
    "            qs.append(p1)\n",
    "        cleaned_corpus = cleaned_corpus.append(pd.Series(' '.join(qs)))\n",
    "    return cleaned_corpus\n",
    "\n",
    "def stopwords_removal(corpus):\n",
    "    stop = set(stopwords.words('english'))\n",
    "    corpus = [[x for x in x.split() if x not in stop] for x in corpus]\n",
    "    return corpus\n",
    "\n",
    "def lemmatize(corpus):\n",
    "    lem = WordNetLemmatizer()\n",
    "    corpus = [[lem.lemmatize(x, pos = 'v') for x in x] for x in corpus]\n",
    "    return corpus\n",
    "\n",
    "def stem(corpus, stem_type = None):\n",
    "    if stem_type == 'snowball':\n",
    "        stemmer = SnowballStemmer(language = 'english')\n",
    "        corpus = [[stemmer.stem(x) for x in x] for x in corpus]\n",
    "    else :\n",
    "        stemmer = PorterStemmer()\n",
    "        corpus = [[stemmer.stem(x) for x in x] for x in corpus]\n",
    "    return corpus\n",
    "\n",
    "def preprocess(corpus, cleaning = True, stemming = False, stem_type = None, lemmatization = False, remove_stopwords = True):\n",
    "    \n",
    "    if cleaning == True:\n",
    "        corpus = text_clean(corpus)\n",
    "    \n",
    "    if remove_stopwords == True:\n",
    "        corpus = stopwords_removal(corpus)\n",
    "    else :\n",
    "        corpus = [[x for x in x.split()] for x in corpus]\n",
    "    \n",
    "    if lemmatization == True:\n",
    "        corpus = lemmatize(corpus)\n",
    "        \n",
    "        \n",
    "    if stemming == True:\n",
    "        corpus = stem(corpus, stem_type)\n",
    "    \n",
    "    corpus = [' '.join(x) for x in corpus]\n",
    "        \n",
    "\n",
    "    return corpus"
   ]
  },
  {
   "cell_type": "code",
   "execution_count": 8,
   "id": "f94a887d-2b1c-42c2-80fb-833c0444a0a7",
   "metadata": {
    "id": "f94a887d-2b1c-42c2-80fb-833c0444a0a7",
    "outputId": "9153ab59-8dad-4538-816d-8a2933559250"
   },
   "outputs": [
    {
     "name": "stderr",
     "output_type": "stream",
     "text": [
      "<ipython-input-7-681ea657d475>:2: DeprecationWarning: The default dtype for empty Series will be 'object' instead of 'float64' in a future version. Specify a dtype explicitly to silence this warning.\n",
      "  cleaned_corpus = pd.Series()\n"
     ]
    }
   ],
   "source": [
    "headlines = preprocess(df['headline'], lemmatization = True, remove_stopwords = True)"
   ]
  },
  {
   "cell_type": "markdown",
   "id": "2ad6c20e-f484-471d-87e2-0544887d3968",
   "metadata": {
    "id": "2ad6c20e-f484-471d-87e2-0544887d3968"
   },
   "source": [
    "### Loading the Word2Vec model and vectorizing our data"
   ]
  },
  {
   "cell_type": "markdown",
   "id": "ae27859f",
   "metadata": {},
   "source": [
    "#### 1) Loading the model"
   ]
  },
  {
   "cell_type": "code",
   "execution_count": 9,
   "id": "1743cad5-5499-4c9f-b416-33e6822ef509",
   "metadata": {
    "id": "1743cad5-5499-4c9f-b416-33e6822ef509"
   },
   "outputs": [],
   "source": [
    "model = KeyedVectors.load_word2vec_format('GoogleNews-vectors-negative300.bin', binary=True)"
   ]
  },
  {
   "cell_type": "markdown",
   "id": "965281e0-e718-4c27-81bc-15238e119c9b",
   "metadata": {
    "id": "965281e0-e718-4c27-81bc-15238e119c9b"
   },
   "source": [
    "#### 2) Defining model parameters and performing Data Vectorization and Standardization"
   ]
  },
  {
   "cell_type": "code",
   "execution_count": 10,
   "id": "3d49e837-6602-4767-95e1-c79b047465ff",
   "metadata": {
    "id": "3d49e837-6602-4767-95e1-c79b047465ff"
   },
   "outputs": [],
   "source": [
    "MAX_LENGTH = 10\n",
    "VECTOR_SIZE = 300"
   ]
  },
  {
   "cell_type": "code",
   "execution_count": 11,
   "id": "c5bd3661-beee-4ff1-898c-fcc30da32370",
   "metadata": {
    "id": "c5bd3661-beee-4ff1-898c-fcc30da32370"
   },
   "outputs": [],
   "source": [
    "def vectorize_data(data):\n",
    "\n",
    "    vectors = []\n",
    "    \n",
    "    padding_vector = [0.0] * VECTOR_SIZE\n",
    "    \n",
    "    for i, data_point in enumerate(data):\n",
    "        data_point_vectors = []\n",
    "        count = 0\n",
    "        \n",
    "        tokens = data_point.split()\n",
    "        \n",
    "        for token in tokens:\n",
    "            if count >= MAX_LENGTH:\n",
    "                break\n",
    "            if token in model.index_to_key:\n",
    "                data_point_vectors.append(model[token])\n",
    "            count = count + 1\n",
    "        \n",
    "        if len(data_point_vectors) < MAX_LENGTH:\n",
    "            to_fill = MAX_LENGTH - len(data_point_vectors)\n",
    "            for _ in range(to_fill):\n",
    "                data_point_vectors.append(padding_vector)\n",
    "        \n",
    "        vectors.append(data_point_vectors)\n",
    "        \n",
    "    return vectors"
   ]
  },
  {
   "cell_type": "code",
   "execution_count": 12,
   "id": "e8e68e74-328f-4311-954e-e6099726bc1b",
   "metadata": {
    "id": "e8e68e74-328f-4311-954e-e6099726bc1b"
   },
   "outputs": [],
   "source": [
    "vectorized_headlines = vectorize_data(headlines)"
   ]
  },
  {
   "cell_type": "markdown",
   "id": "0e35a0a2-3efc-4d3a-93ec-f4ea58be1886",
   "metadata": {
    "id": "0e35a0a2-3efc-4d3a-93ec-f4ea58be1886"
   },
   "source": [
    "#### 3) Adding a validation to ensure that the 10 vectors are present for each headline"
   ]
  },
  {
   "cell_type": "code",
   "execution_count": 13,
   "id": "f58a5519-cd7d-468e-a514-6eb4475d2069",
   "metadata": {
    "id": "f58a5519-cd7d-468e-a514-6eb4475d2069"
   },
   "outputs": [],
   "source": [
    "for i, vec in enumerate(vectorized_headlines):\n",
    "    if len(vec) != MAX_LENGTH:\n",
    "        print(i)"
   ]
  },
  {
   "cell_type": "markdown",
   "id": "f1b42ca8-e210-40db-9443-fa8cc97e6c83",
   "metadata": {
    "id": "f1b42ca8-e210-40db-9443-fa8cc97e6c83"
   },
   "source": [
    "### Splitting our dataset into train and test sets"
   ]
  },
  {
   "cell_type": "markdown",
   "id": "54102586",
   "metadata": {},
   "source": [
    "#### 1) Splitting data into sets"
   ]
  },
  {
   "cell_type": "code",
   "execution_count": 14,
   "id": "35f2d44b-07c7-4a5c-9cca-fd44b435df75",
   "metadata": {
    "id": "35f2d44b-07c7-4a5c-9cca-fd44b435df75",
    "outputId": "57278a44-8098-41b7-fa23-c1b4b0dc353f",
    "scrolled": true
   },
   "outputs": [
    {
     "data": {
      "text/plain": [
       "20033"
      ]
     },
     "execution_count": 14,
     "metadata": {},
     "output_type": "execute_result"
    }
   ],
   "source": [
    "train_div = math.floor(0.7 * len(vectorized_headlines))\n",
    "train_div"
   ]
  },
  {
   "cell_type": "code",
   "execution_count": 15,
   "id": "98f57d95-960e-41bf-a923-d30c21f5fafc",
   "metadata": {
    "id": "98f57d95-960e-41bf-a923-d30c21f5fafc",
    "outputId": "49fae0c6-7539-4037-ee6e-e0651dcbd268"
   },
   "outputs": [
    {
     "name": "stdout",
     "output_type": "stream",
     "text": [
      "The size of X_train is: 20033 \n",
      "The size of y_train is: 20033 \n",
      "The size of X_test is: 8586 \n",
      "The size of y_test is: 8586\n"
     ]
    }
   ],
   "source": [
    "X_train = vectorized_headlines[:train_div]\n",
    "y_train = df['is_sarcastic'][:train_div]\n",
    "X_test = vectorized_headlines[train_div:]\n",
    "y_test = df['is_sarcastic'][train_div:]\n",
    "\n",
    "print('The size of X_train is:', len(X_train), '\\nThe size of y_train is:', len(y_train),\n",
    "      '\\nThe size of X_test is:', len(X_test), '\\nThe size of y_test is:', len(y_test))"
   ]
  },
  {
   "cell_type": "markdown",
   "id": "5cac3d1d-cbaf-4578-b3de-c324db63ce30",
   "metadata": {
    "id": "5cac3d1d-cbaf-4578-b3de-c324db63ce30"
   },
   "source": [
    "#### 2) Reshaping our data in order to convert it into the form expected by our CNN model"
   ]
  },
  {
   "cell_type": "code",
   "execution_count": 16,
   "id": "580cb049-785e-410e-8d8e-46cf72808f60",
   "metadata": {
    "id": "580cb049-785e-410e-8d8e-46cf72808f60"
   },
   "outputs": [],
   "source": [
    "X_train = np.reshape(X_train, (len(X_train), MAX_LENGTH, VECTOR_SIZE))\n",
    "X_test = np.reshape(X_test, (len(X_test), MAX_LENGTH, VECTOR_SIZE))\n",
    "y_train = np.array(y_train)\n",
    "y_test = np.array(y_test)"
   ]
  },
  {
   "cell_type": "markdown",
   "id": "16d5d400-944e-4311-b761-3f3be4669eaa",
   "metadata": {
    "id": "16d5d400-944e-4311-b761-3f3be4669eaa"
   },
   "source": [
    "### Building the model"
   ]
  },
  {
   "cell_type": "markdown",
   "id": "cccc417e-b37d-4519-99c0-ee2e734c6467",
   "metadata": {
    "id": "cccc417e-b37d-4519-99c0-ee2e734c6467"
   },
   "source": [
    "#### 1) Defining the hyperparameters of the network"
   ]
  },
  {
   "cell_type": "code",
   "execution_count": 17,
   "id": "77c6fd4b-537a-4847-a643-371dbec06a3a",
   "metadata": {
    "id": "77c6fd4b-537a-4847-a643-371dbec06a3a"
   },
   "outputs": [],
   "source": [
    "FILTERS=8\n",
    "KERNEL_SIZE=3\n",
    "HIDDEN_LAYER_1_NODES=10\n",
    "HIDDEN_LAYER_2_NODES=5\n",
    "DROPOUT_PROB=0.35\n",
    "NUM_EPOCHS=10\n",
    "BATCH_SIZE=50"
   ]
  },
  {
   "cell_type": "markdown",
   "id": "7df61295-f6e2-4605-95eb-34531c16e7e3",
   "metadata": {
    "id": "7df61295-f6e2-4605-95eb-34531c16e7e3"
   },
   "source": [
    "#### 2) Defining the convolutional layer"
   ]
  },
  {
   "cell_type": "code",
   "execution_count": 18,
   "id": "d9d83a61-b97c-49e8-8338-93d8ee452d26",
   "metadata": {
    "id": "d9d83a61-b97c-49e8-8338-93d8ee452d26"
   },
   "outputs": [],
   "source": [
    "model = Sequential()\n",
    "\n",
    "model.add(Conv1D(FILTERS,\n",
    "                 KERNEL_SIZE,\n",
    "                 padding='same',\n",
    "                 strides=1,\n",
    "                 activation='relu', \n",
    "                 input_shape = (MAX_LENGTH, VECTOR_SIZE)))"
   ]
  },
  {
   "cell_type": "code",
   "execution_count": 19,
   "id": "e035f605-9612-4798-ac91-af2e02aefc1a",
   "metadata": {
    "id": "e035f605-9612-4798-ac91-af2e02aefc1a"
   },
   "outputs": [],
   "source": [
    "# Defining the pooling layer\n",
    "model.add(GlobalMaxPooling1D())"
   ]
  },
  {
   "cell_type": "markdown",
   "id": "02cd70ab-98de-4c07-b608-81a7e7de41b7",
   "metadata": {
    "id": "02cd70ab-98de-4c07-b608-81a7e7de41b7"
   },
   "source": [
    "#### 3) Defining the feedforward neural network"
   ]
  },
  {
   "cell_type": "code",
   "execution_count": 20,
   "id": "79c85003-0f56-484f-9bbf-cb6a6e4e1a16",
   "metadata": {
    "id": "79c85003-0f56-484f-9bbf-cb6a6e4e1a16"
   },
   "outputs": [],
   "source": [
    "model.add(Dense(HIDDEN_LAYER_1_NODES, activation='relu'))\n",
    "model.add(Dropout(DROPOUT_PROB))\n",
    "model.add(Dense(HIDDEN_LAYER_2_NODES, activation='relu'))\n",
    "model.add(Dropout(DROPOUT_PROB))\n",
    "model.add(Dense(1, activation='sigmoid'))"
   ]
  },
  {
   "cell_type": "markdown",
   "id": "ef7e3241-6de8-44ba-ab15-a1c3de85b601",
   "metadata": {
    "id": "ef7e3241-6de8-44ba-ab15-a1c3de85b601"
   },
   "source": [
    "#### 4) Looking at the summary of our model"
   ]
  },
  {
   "cell_type": "code",
   "execution_count": 21,
   "id": "f900f8ed-60e3-434b-90aa-d857f6bf0f74",
   "metadata": {
    "id": "f900f8ed-60e3-434b-90aa-d857f6bf0f74",
    "outputId": "ecbf849a-b1d0-4d43-a948-c4c1c6990a33"
   },
   "outputs": [
    {
     "name": "stdout",
     "output_type": "stream",
     "text": [
      "Model: \"sequential\"\n",
      "_________________________________________________________________\n",
      " Layer (type)                Output Shape              Param #   \n",
      "=================================================================\n",
      " conv1d (Conv1D)             (None, 10, 8)             7208      \n",
      "                                                                 \n",
      " global_max_pooling1d (Globa  (None, 8)                0         \n",
      " lMaxPooling1D)                                                  \n",
      "                                                                 \n",
      " dense (Dense)               (None, 10)                90        \n",
      "                                                                 \n",
      " dropout (Dropout)           (None, 10)                0         \n",
      "                                                                 \n",
      " dense_1 (Dense)             (None, 5)                 55        \n",
      "                                                                 \n",
      " dropout_1 (Dropout)         (None, 5)                 0         \n",
      "                                                                 \n",
      " dense_2 (Dense)             (None, 1)                 6         \n",
      "                                                                 \n",
      "=================================================================\n",
      "Total params: 7,359\n",
      "Trainable params: 7,359\n",
      "Non-trainable params: 0\n",
      "_________________________________________________________________\n",
      "None\n"
     ]
    }
   ],
   "source": [
    "print(model.summary())"
   ]
  },
  {
   "cell_type": "markdown",
   "id": "83100486-4fcc-4580-9e99-46225e1270a3",
   "metadata": {
    "id": "83100486-4fcc-4580-9e99-46225e1270a3"
   },
   "source": [
    "#### 5) Building our model using 'compile'"
   ]
  },
  {
   "cell_type": "code",
   "execution_count": 22,
   "id": "8beb8388-5bf7-4d34-b3ad-517921adf8e5",
   "metadata": {
    "id": "8beb8388-5bf7-4d34-b3ad-517921adf8e5"
   },
   "outputs": [],
   "source": [
    "model.compile(loss='binary_crossentropy', optimizer='adam', metrics=['accuracy'])"
   ]
  },
  {
   "cell_type": "markdown",
   "id": "b7a3bca7-1918-48e0-bf7e-4f44b0bf94d1",
   "metadata": {
    "id": "b7a3bca7-1918-48e0-bf7e-4f44b0bf94d1"
   },
   "source": [
    "#### 6) Training our model"
   ]
  },
  {
   "cell_type": "code",
   "execution_count": 23,
   "id": "46a4a76a-639f-4344-9ddc-79090850455b",
   "metadata": {
    "id": "46a4a76a-639f-4344-9ddc-79090850455b",
    "outputId": "129c8500-9f33-432e-c52d-441a9e7ed212"
   },
   "outputs": [
    {
     "name": "stdout",
     "output_type": "stream",
     "text": [
      "Epoch 1/10\n",
      "401/401 [==============================] - 2s 3ms/step - loss: 0.6736 - accuracy: 0.5751\n",
      "Epoch 2/10\n",
      "401/401 [==============================] - 1s 3ms/step - loss: 0.6223 - accuracy: 0.6796\n",
      "Epoch 3/10\n",
      "401/401 [==============================] - 1s 3ms/step - loss: 0.5754 - accuracy: 0.7270\n",
      "Epoch 4/10\n",
      "401/401 [==============================] - 1s 3ms/step - loss: 0.5366 - accuracy: 0.7567\n",
      "Epoch 5/10\n",
      "401/401 [==============================] - 1s 3ms/step - loss: 0.5042 - accuracy: 0.7717\n",
      "Epoch 6/10\n",
      "401/401 [==============================] - 1s 3ms/step - loss: 0.4751 - accuracy: 0.7896\n",
      "Epoch 7/10\n",
      "401/401 [==============================] - 1s 3ms/step - loss: 0.4506 - accuracy: 0.8063\n",
      "Epoch 8/10\n",
      "401/401 [==============================] - 1s 3ms/step - loss: 0.4276 - accuracy: 0.8195\n",
      "Epoch 9/10\n",
      "401/401 [==============================] - 1s 3ms/step - loss: 0.4086 - accuracy: 0.8299\n",
      "Epoch 10/10\n",
      "401/401 [==============================] - 1s 3ms/step - loss: 0.3902 - accuracy: 0.8394\n"
     ]
    }
   ],
   "source": [
    "training_history = model.fit(X_train, y_train, epochs=NUM_EPOCHS, batch_size=BATCH_SIZE)"
   ]
  },
  {
   "cell_type": "markdown",
   "id": "6324443c-e206-432e-a84e-2687de5b6c16",
   "metadata": {
    "id": "6324443c-e206-432e-a84e-2687de5b6c16"
   },
   "source": [
    "### Evaluating and saving our model"
   ]
  },
  {
   "cell_type": "markdown",
   "id": "c4b24878",
   "metadata": {},
   "source": [
    "#### 1) Evaluating our model on the test data"
   ]
  },
  {
   "cell_type": "code",
   "execution_count": 24,
   "id": "662a05d5-0fe2-42e3-b2bb-8ddd2ececdbf",
   "metadata": {
    "id": "662a05d5-0fe2-42e3-b2bb-8ddd2ececdbf",
    "outputId": "9b77bf59-d490-41bc-8623-4b3d4b51ff73"
   },
   "outputs": [
    {
     "name": "stdout",
     "output_type": "stream",
     "text": [
      "Testing Accuracy:  0.7555\n"
     ]
    }
   ],
   "source": [
    "loss, accuracy = model.evaluate(X_test, y_test, verbose=False)\n",
    "print(\"Testing Accuracy:  {:.4f}\".format(accuracy))"
   ]
  },
  {
   "cell_type": "markdown",
   "id": "a54c4ceb",
   "metadata": {},
   "source": [
    "#### 2) Saving our model"
   ]
  },
  {
   "cell_type": "code",
   "execution_count": 25,
   "id": "0d43dcf6-179d-42c0-a3b8-3770580c1d35",
   "metadata": {
    "id": "0d43dcf6-179d-42c0-a3b8-3770580c1d35"
   },
   "outputs": [],
   "source": [
    "model_structure = model.to_json()\n",
    "with open(\"Output Files/sarcasm_detection_model_cnn.json\", \"w\") as json_file:\n",
    "    json_file.write(model_structure)\n",
    "model.save_weights(\"Output Files/sarcasm_detection_model_cnn.h5\")"
   ]
  },
  {
   "cell_type": "markdown",
   "id": "7c303d01-4428-428b-bc6b-52c26833f9d2",
   "metadata": {
    "id": "7c303d01-4428-428b-bc6b-52c26833f9d2"
   },
   "source": [
    "# Chapter 10: Capturing Temporal Relationships in Text"
   ]
  },
  {
   "cell_type": "markdown",
   "id": "abca6bb9-dfce-455d-930b-a30ad7d0c977",
   "metadata": {
    "id": "abca6bb9-dfce-455d-930b-a30ad7d0c977"
   },
   "source": [
    "## Building a text generator using LSTMs\n",
    "#### 1) Importing the necessary libraries"
   ]
  },
  {
   "cell_type": "code",
   "execution_count": 26,
   "id": "613ed4ff-8bf8-445e-bb1c-a01969987cb3",
   "metadata": {
    "id": "613ed4ff-8bf8-445e-bb1c-a01969987cb3"
   },
   "outputs": [],
   "source": [
    "import nltk\n",
    "from nltk.corpus import stopwords\n",
    "import pandas as pd\n",
    "import numpy as np\n",
    "import re\n",
    "from keras.preprocessing.sequence import pad_sequences\n",
    "from keras.utils import np_utils\n",
    "from keras.models import Sequential\n",
    "from keras.layers import Dense, LSTM, Dropout, Embedding"
   ]
  },
  {
   "cell_type": "markdown",
   "id": "f90a2605-3107-4eca-bd6c-532f631d5100",
   "metadata": {
    "id": "f90a2605-3107-4eca-bd6c-532f631d5100"
   },
   "source": [
    "#### 2) Loading the dataset"
   ]
  },
  {
   "cell_type": "code",
   "execution_count": 27,
   "id": "76714235-579e-4ec9-8d84-ca45000abbf4",
   "metadata": {
    "id": "76714235-579e-4ec9-8d84-ca45000abbf4"
   },
   "outputs": [
    {
     "name": "stdout",
     "output_type": "stream",
     "text": [
      "handle: hotel_data.csv\n",
      "hotel_data.csv\n"
     ]
    }
   ],
   "source": [
    "data = pd.read_csv('hotel_data.csv')"
   ]
  },
  {
   "cell_type": "markdown",
   "id": "20919b07-ea86-4a62-9177-106d3c937085",
   "metadata": {
    "id": "20919b07-ea86-4a62-9177-106d3c937085"
   },
   "source": [
    "#### 3) Checking out the data"
   ]
  },
  {
   "cell_type": "code",
   "execution_count": 28,
   "id": "9f1bfaaa-52e4-4109-a01b-e075b27daa5c",
   "metadata": {
    "id": "9f1bfaaa-52e4-4109-a01b-e075b27daa5c",
    "outputId": "4b47a936-095b-4a78-d37d-0abe86a8e048"
   },
   "outputs": [
    {
     "data": {
      "text/html": [
       "<div>\n",
       "<style scoped>\n",
       "    .dataframe tbody tr th:only-of-type {\n",
       "        vertical-align: middle;\n",
       "    }\n",
       "\n",
       "    .dataframe tbody tr th {\n",
       "        vertical-align: top;\n",
       "    }\n",
       "\n",
       "    .dataframe thead th {\n",
       "        text-align: right;\n",
       "    }\n",
       "</style>\n",
       "<table border=\"1\" class=\"dataframe\">\n",
       "  <thead>\n",
       "    <tr style=\"text-align: right;\">\n",
       "      <th></th>\n",
       "      <th>area</th>\n",
       "      <th>city</th>\n",
       "      <th>country</th>\n",
       "      <th>crawl_date</th>\n",
       "      <th>highlight_value</th>\n",
       "      <th>hotel_overview</th>\n",
       "      <th>hotel_star_rating</th>\n",
       "      <th>image_urls</th>\n",
       "      <th>in_your_room</th>\n",
       "      <th>is_value_plus</th>\n",
       "      <th>...</th>\n",
       "      <th>property_type</th>\n",
       "      <th>qts</th>\n",
       "      <th>query_time_stamp</th>\n",
       "      <th>room_types</th>\n",
       "      <th>site_review_count</th>\n",
       "      <th>site_review_rating</th>\n",
       "      <th>sitename</th>\n",
       "      <th>state</th>\n",
       "      <th>traveller_rating</th>\n",
       "      <th>uniq_id</th>\n",
       "    </tr>\n",
       "  </thead>\n",
       "  <tbody>\n",
       "    <tr>\n",
       "      <th>0</th>\n",
       "      <td>Hardasji Ki Magri</td>\n",
       "      <td>Udaipur</td>\n",
       "      <td>India</td>\n",
       "      <td>2016-06-21</td>\n",
       "      <td>{{facility}}</td>\n",
       "      <td>|Zion Home Stay is located in a city that sets...</td>\n",
       "      <td>1 star</td>\n",
       "      <td>NaN</td>\n",
       "      <td>{{value}}</td>\n",
       "      <td>no</td>\n",
       "      <td>...</td>\n",
       "      <td>Hotel</td>\n",
       "      <td>NaN</td>\n",
       "      <td>2016-06-21 04:06:50 +0000</td>\n",
       "      <td>NaN</td>\n",
       "      <td>/5</td>\n",
       "      <td>4.5</td>\n",
       "      <td>makemytrip</td>\n",
       "      <td>NaN</td>\n",
       "      <td>NaN</td>\n",
       "      <td>78ddf880bd7937d384ff278cc5b39d6e</td>\n",
       "    </tr>\n",
       "    <tr>\n",
       "      <th>1</th>\n",
       "      <td>Near Nai Gaon</td>\n",
       "      <td>Udaipur</td>\n",
       "      <td>India</td>\n",
       "      <td>2016-06-21</td>\n",
       "      <td>{{facility}}</td>\n",
       "      <td>| Araliayas Resorts is a 3 star hotel located ...</td>\n",
       "      <td>3 star</td>\n",
       "      <td>NaN</td>\n",
       "      <td>{{value}}</td>\n",
       "      <td>no</td>\n",
       "      <td>...</td>\n",
       "      <td>Hotel</td>\n",
       "      <td>NaN</td>\n",
       "      <td>2016-06-21 04:06:50 +0000</td>\n",
       "      <td>NaN</td>\n",
       "      <td>/5</td>\n",
       "      <td>4.5</td>\n",
       "      <td>makemytrip</td>\n",
       "      <td>NaN</td>\n",
       "      <td>NaN</td>\n",
       "      <td>9f9f9cbb2f7df8089b63d5cdeb257944</td>\n",
       "    </tr>\n",
       "    <tr>\n",
       "      <th>2</th>\n",
       "      <td>Near Bagore Ki Haveli</td>\n",
       "      <td>Udaipur</td>\n",
       "      <td>India</td>\n",
       "      <td>2016-06-21</td>\n",
       "      <td>{{facility}}</td>\n",
       "      <td>|A 2 star property is located at 24 km from Ma...</td>\n",
       "      <td>2 star</td>\n",
       "      <td>NaN</td>\n",
       "      <td>{{value}}</td>\n",
       "      <td>no</td>\n",
       "      <td>...</td>\n",
       "      <td>Hotel</td>\n",
       "      <td>NaN</td>\n",
       "      <td>2016-06-21 04:06:50 +0000</td>\n",
       "      <td>NaN</td>\n",
       "      <td>/5</td>\n",
       "      <td>NaN</td>\n",
       "      <td>makemytrip</td>\n",
       "      <td>NaN</td>\n",
       "      <td>NaN</td>\n",
       "      <td>b314bb7fa8bfb1ed306f517be21d729e</td>\n",
       "    </tr>\n",
       "    <tr>\n",
       "      <th>3</th>\n",
       "      <td>Dabok</td>\n",
       "      <td>Udaipur</td>\n",
       "      <td>India</td>\n",
       "      <td>2016-06-21</td>\n",
       "      <td>Airport Transfer|Car rental|Conference Hall|Cu...</td>\n",
       "      <td>|SNP House Airport Hotel And Restaurant is loa...</td>\n",
       "      <td>1 star</td>\n",
       "      <td>//imghtlak.mmtcdn.com/images/hotels/2014071815...</td>\n",
       "      <td>NaN</td>\n",
       "      <td>no</td>\n",
       "      <td>...</td>\n",
       "      <td>Hotel</td>\n",
       "      <td>NaN</td>\n",
       "      <td>2016-06-21 04:06:50 +0000</td>\n",
       "      <td>`standard</td>\n",
       "      <td>/5</td>\n",
       "      <td>NaN</td>\n",
       "      <td>makemytrip</td>\n",
       "      <td>NaN</td>\n",
       "      <td>NaN</td>\n",
       "      <td>e6f5bb3c2d76a78d978b9ceb0e31ec56</td>\n",
       "    </tr>\n",
       "    <tr>\n",
       "      <th>4</th>\n",
       "      <td>East Udaipur</td>\n",
       "      <td>Udaipur</td>\n",
       "      <td>India</td>\n",
       "      <td>2016-06-21</td>\n",
       "      <td>{{facility}}</td>\n",
       "      <td>| Hotel Pichola Haveli is situated in the beau...</td>\n",
       "      <td>2 star</td>\n",
       "      <td>NaN</td>\n",
       "      <td>{{value}}</td>\n",
       "      <td>no</td>\n",
       "      <td>...</td>\n",
       "      <td>Hotel</td>\n",
       "      <td>NaN</td>\n",
       "      <td>2016-06-21 04:06:50 +0000</td>\n",
       "      <td>NaN</td>\n",
       "      <td>/5</td>\n",
       "      <td>3.7</td>\n",
       "      <td>makemytrip</td>\n",
       "      <td>NaN</td>\n",
       "      <td>NaN</td>\n",
       "      <td>63072c301427b6ca450d31eea127bcf0</td>\n",
       "    </tr>\n",
       "  </tbody>\n",
       "</table>\n",
       "<p>5 rows × 33 columns</p>\n",
       "</div>"
      ],
      "text/plain": [
       "                    area     city country  crawl_date  \\\n",
       "0      Hardasji Ki Magri  Udaipur   India  2016-06-21   \n",
       "1          Near Nai Gaon  Udaipur   India  2016-06-21   \n",
       "2  Near Bagore Ki Haveli  Udaipur   India  2016-06-21   \n",
       "3                  Dabok  Udaipur   India  2016-06-21   \n",
       "4           East Udaipur  Udaipur   India  2016-06-21   \n",
       "\n",
       "                                     highlight_value  \\\n",
       "0                                       {{facility}}   \n",
       "1                                       {{facility}}   \n",
       "2                                       {{facility}}   \n",
       "3  Airport Transfer|Car rental|Conference Hall|Cu...   \n",
       "4                                       {{facility}}   \n",
       "\n",
       "                                      hotel_overview hotel_star_rating  \\\n",
       "0  |Zion Home Stay is located in a city that sets...            1 star   \n",
       "1  | Araliayas Resorts is a 3 star hotel located ...            3 star   \n",
       "2  |A 2 star property is located at 24 km from Ma...            2 star   \n",
       "3  |SNP House Airport Hotel And Restaurant is loa...            1 star   \n",
       "4  | Hotel Pichola Haveli is situated in the beau...            2 star   \n",
       "\n",
       "                                          image_urls in_your_room  \\\n",
       "0                                                NaN    {{value}}   \n",
       "1                                                NaN    {{value}}   \n",
       "2                                                NaN    {{value}}   \n",
       "3  //imghtlak.mmtcdn.com/images/hotels/2014071815...          NaN   \n",
       "4                                                NaN    {{value}}   \n",
       "\n",
       "  is_value_plus  ...  property_type  qts           query_time_stamp  \\\n",
       "0            no  ...          Hotel  NaN  2016-06-21 04:06:50 +0000   \n",
       "1            no  ...          Hotel  NaN  2016-06-21 04:06:50 +0000   \n",
       "2            no  ...          Hotel  NaN  2016-06-21 04:06:50 +0000   \n",
       "3            no  ...          Hotel  NaN  2016-06-21 04:06:50 +0000   \n",
       "4            no  ...          Hotel  NaN  2016-06-21 04:06:50 +0000   \n",
       "\n",
       "  room_types  site_review_count site_review_rating    sitename state  \\\n",
       "0        NaN                 /5                4.5  makemytrip   NaN   \n",
       "1        NaN                 /5                4.5  makemytrip   NaN   \n",
       "2        NaN                 /5                NaN  makemytrip   NaN   \n",
       "3  `standard                 /5                NaN  makemytrip   NaN   \n",
       "4        NaN                 /5                3.7  makemytrip   NaN   \n",
       "\n",
       "   traveller_rating                           uniq_id  \n",
       "0               NaN  78ddf880bd7937d384ff278cc5b39d6e  \n",
       "1               NaN  9f9f9cbb2f7df8089b63d5cdeb257944  \n",
       "2               NaN  b314bb7fa8bfb1ed306f517be21d729e  \n",
       "3               NaN  e6f5bb3c2d76a78d978b9ceb0e31ec56  \n",
       "4               NaN  63072c301427b6ca450d31eea127bcf0  \n",
       "\n",
       "[5 rows x 33 columns]"
      ]
     },
     "execution_count": 28,
     "metadata": {},
     "output_type": "execute_result"
    }
   ],
   "source": [
    "data.head(5)"
   ]
  },
  {
   "cell_type": "markdown",
   "id": "d46deaa7",
   "metadata": {},
   "source": [
    "#### 4) Checking how many hotels per city are available"
   ]
  },
  {
   "cell_type": "code",
   "execution_count": 29,
   "id": "88815326-49d1-48b5-80a2-56b387433205",
   "metadata": {
    "id": "88815326-49d1-48b5-80a2-56b387433205",
    "outputId": "62ac779d-413f-4607-b4fe-372d458dbb21"
   },
   "outputs": [
    {
     "data": {
      "text/plain": [
       "NewDelhiAndNCR    1163\n",
       "Goa               1122\n",
       "Mumbai             543\n",
       "Jaipur             534\n",
       "Bangalore          512\n",
       "                  ... \n",
       "Kollur               1\n",
       "Madla                1\n",
       "Jeypore              1\n",
       "Jispa                1\n",
       "Haldia               1\n",
       "Name: city, Length: 770, dtype: int64"
      ]
     },
     "execution_count": 29,
     "metadata": {},
     "output_type": "execute_result"
    }
   ],
   "source": [
    "data.city.value_counts()"
   ]
  },
  {
   "cell_type": "markdown",
   "id": "ff8df2c7-a689-44f5-93b9-0fd2bab5cff0",
   "metadata": {
    "id": "ff8df2c7-a689-44f5-93b9-0fd2bab5cff0"
   },
   "source": [
    "#### 5) Focusing on data for Mumbai"
   ]
  },
  {
   "cell_type": "code",
   "execution_count": 30,
   "id": "4b69c3e9-f627-403e-9947-ce63182e67e3",
   "metadata": {
    "id": "4b69c3e9-f627-403e-9947-ce63182e67e3"
   },
   "outputs": [],
   "source": [
    "array = ['Mumbai']\n",
    "data = data.loc[data['city'].isin(array)]"
   ]
  },
  {
   "cell_type": "markdown",
   "id": "a3a977bc",
   "metadata": {},
   "source": [
    "#### 6) Checking filtered data"
   ]
  },
  {
   "cell_type": "code",
   "execution_count": 31,
   "id": "6a723503-5e41-48e8-9976-690ec59ac9cc",
   "metadata": {
    "id": "6a723503-5e41-48e8-9976-690ec59ac9cc",
    "outputId": "e801a720-83fd-4907-c865-bef03ff9092a"
   },
   "outputs": [
    {
     "data": {
      "text/html": [
       "<div>\n",
       "<style scoped>\n",
       "    .dataframe tbody tr th:only-of-type {\n",
       "        vertical-align: middle;\n",
       "    }\n",
       "\n",
       "    .dataframe tbody tr th {\n",
       "        vertical-align: top;\n",
       "    }\n",
       "\n",
       "    .dataframe thead th {\n",
       "        text-align: right;\n",
       "    }\n",
       "</style>\n",
       "<table border=\"1\" class=\"dataframe\">\n",
       "  <thead>\n",
       "    <tr style=\"text-align: right;\">\n",
       "      <th></th>\n",
       "      <th>area</th>\n",
       "      <th>city</th>\n",
       "      <th>country</th>\n",
       "      <th>crawl_date</th>\n",
       "      <th>highlight_value</th>\n",
       "      <th>hotel_overview</th>\n",
       "      <th>hotel_star_rating</th>\n",
       "      <th>image_urls</th>\n",
       "      <th>in_your_room</th>\n",
       "      <th>is_value_plus</th>\n",
       "      <th>...</th>\n",
       "      <th>property_type</th>\n",
       "      <th>qts</th>\n",
       "      <th>query_time_stamp</th>\n",
       "      <th>room_types</th>\n",
       "      <th>site_review_count</th>\n",
       "      <th>site_review_rating</th>\n",
       "      <th>sitename</th>\n",
       "      <th>state</th>\n",
       "      <th>traveller_rating</th>\n",
       "      <th>uniq_id</th>\n",
       "    </tr>\n",
       "  </thead>\n",
       "  <tbody>\n",
       "    <tr>\n",
       "      <th>294</th>\n",
       "      <td>Charai</td>\n",
       "      <td>Mumbai</td>\n",
       "      <td>India</td>\n",
       "      <td>2016-08-28</td>\n",
       "      <td>Doctor on Call|Front desk|Laundry Service|Park...</td>\n",
       "      <td>Nestled in Mumbai, a city with strong historic...</td>\n",
       "      <td>3</td>\n",
       "      <td>NaN</td>\n",
       "      <td>Bathroom Toiletries|Attached Bathroom|Hot &amp; Co...</td>\n",
       "      <td>no</td>\n",
       "      <td>...</td>\n",
       "      <td>Hotel</td>\n",
       "      <td>2016-08-28 16:13:39 +0000</td>\n",
       "      <td>2016-08-28 16:13:39 +0000</td>\n",
       "      <td>Ac Superior Room|A/c Standard Rooms Double Occ...</td>\n",
       "      <td>NaN</td>\n",
       "      <td>NaN</td>\n",
       "      <td>makemytrip</td>\n",
       "      <td>Maharashtra</td>\n",
       "      <td>NaN</td>\n",
       "      <td>d78fae90ef2e1b5c2dfd547c61763a25</td>\n",
       "    </tr>\n",
       "    <tr>\n",
       "      <th>309</th>\n",
       "      <td>Andheri (East)</td>\n",
       "      <td>Mumbai</td>\n",
       "      <td>India</td>\n",
       "      <td>2016-08-28</td>\n",
       "      <td>Air Conditioned|Airport Transfer|Conference Ha...</td>\n",
       "      <td>3 km from Chhatrapati Shivaji International Ai...</td>\n",
       "      <td>2</td>\n",
       "      <td>NaN</td>\n",
       "      <td>Bathroom Toiletries|Daily Newspaper|Kitchenett...</td>\n",
       "      <td>no</td>\n",
       "      <td>...</td>\n",
       "      <td>Hotel</td>\n",
       "      <td>2016-08-28 16:13:39 +0000</td>\n",
       "      <td>2016-08-28 16:13:39 +0000</td>\n",
       "      <td>Executive|Deluxe</td>\n",
       "      <td>NaN</td>\n",
       "      <td>NaN</td>\n",
       "      <td>makemytrip</td>\n",
       "      <td>Maharasta</td>\n",
       "      <td>Location:3.2/5 | Hospitality:3.1/5 | Facilitie...</td>\n",
       "      <td>030865f741982beb373efddecdc6d6c3</td>\n",
       "    </tr>\n",
       "    <tr>\n",
       "      <th>321</th>\n",
       "      <td>Khar</td>\n",
       "      <td>Mumbai</td>\n",
       "      <td>India</td>\n",
       "      <td>2016-08-28</td>\n",
       "      <td>Airport/Rlwy Stn Transfer|Bar|Conference Hall|...</td>\n",
       "      <td>Location Hotel Royal Garden is situated on Juh...</td>\n",
       "      <td>3</td>\n",
       "      <td>NaN</td>\n",
       "      <td>Electronic Safe|Bathroom Toiletries|Daily News...</td>\n",
       "      <td>no</td>\n",
       "      <td>...</td>\n",
       "      <td>Hotel</td>\n",
       "      <td>2016-08-28 16:13:39 +0000</td>\n",
       "      <td>2016-08-28 16:13:39 +0000</td>\n",
       "      <td>Superior Executive</td>\n",
       "      <td>NaN</td>\n",
       "      <td>NaN</td>\n",
       "      <td>makemytrip</td>\n",
       "      <td>Maharashtra</td>\n",
       "      <td>Location:4.5/5 | Hospitality:3.4/5 | Facilitie...</td>\n",
       "      <td>a1ced509350038775a7700ec67796bc2</td>\n",
       "    </tr>\n",
       "    <tr>\n",
       "      <th>334</th>\n",
       "      <td>Andheri (East)</td>\n",
       "      <td>Mumbai</td>\n",
       "      <td>India</td>\n",
       "      <td>2016-08-28</td>\n",
       "      <td>24 Hour Check in-Icon|24 hour reception|24 hou...</td>\n",
       "      <td>City Guest House is a beautiful property locat...</td>\n",
       "      <td>2</td>\n",
       "      <td>NaN</td>\n",
       "      <td>Bathroom Toiletries|Hot/cold Water|Attached Ba...</td>\n",
       "      <td>no</td>\n",
       "      <td>...</td>\n",
       "      <td>Hotel</td>\n",
       "      <td>2016-08-28 16:13:39 +0000</td>\n",
       "      <td>2016-08-28 16:13:39 +0000</td>\n",
       "      <td>Standard Room|Deluxe Room|Triple Deluxe Room|S...</td>\n",
       "      <td>NaN</td>\n",
       "      <td>NaN</td>\n",
       "      <td>makemytrip</td>\n",
       "      <td>Maharashtra</td>\n",
       "      <td>Location:4.3/5 | Hospitality:3.8/5 | Facilitie...</td>\n",
       "      <td>f2820ae7707668ed6906bb227921f720</td>\n",
       "    </tr>\n",
       "    <tr>\n",
       "      <th>1238</th>\n",
       "      <td>Andheri (East)</td>\n",
       "      <td>Mumbai</td>\n",
       "      <td>NaN</td>\n",
       "      <td>2016-08-22</td>\n",
       "      <td>24 Hour Check in-Icon|24 hour reception|24 hou...</td>\n",
       "      <td>Sai Residency Hotel is situated in the City of...</td>\n",
       "      <td>2</td>\n",
       "      <td>NaN</td>\n",
       "      <td>Bathroom Toiletries|Attached Bathroom|Hot &amp; Co...</td>\n",
       "      <td>no</td>\n",
       "      <td>...</td>\n",
       "      <td>Hotel</td>\n",
       "      <td>2016-08-22 22:10:53 +0000</td>\n",
       "      <td>2016-08-22 22:10:53 +0000</td>\n",
       "      <td>Deluxe Dbl Air Cooled</td>\n",
       "      <td>NaN</td>\n",
       "      <td>NaN</td>\n",
       "      <td>makemytrip</td>\n",
       "      <td>MAHARASHTRA</td>\n",
       "      <td>NaN</td>\n",
       "      <td>b4af24952027ffbcd85a91bb6fe23f5d</td>\n",
       "    </tr>\n",
       "  </tbody>\n",
       "</table>\n",
       "<p>5 rows × 33 columns</p>\n",
       "</div>"
      ],
      "text/plain": [
       "                area    city country  crawl_date  \\\n",
       "294           Charai  Mumbai   India  2016-08-28   \n",
       "309   Andheri (East)  Mumbai   India  2016-08-28   \n",
       "321             Khar  Mumbai   India  2016-08-28   \n",
       "334   Andheri (East)  Mumbai   India  2016-08-28   \n",
       "1238  Andheri (East)  Mumbai     NaN  2016-08-22   \n",
       "\n",
       "                                        highlight_value  \\\n",
       "294   Doctor on Call|Front desk|Laundry Service|Park...   \n",
       "309   Air Conditioned|Airport Transfer|Conference Ha...   \n",
       "321   Airport/Rlwy Stn Transfer|Bar|Conference Hall|...   \n",
       "334   24 Hour Check in-Icon|24 hour reception|24 hou...   \n",
       "1238  24 Hour Check in-Icon|24 hour reception|24 hou...   \n",
       "\n",
       "                                         hotel_overview hotel_star_rating  \\\n",
       "294   Nestled in Mumbai, a city with strong historic...                 3   \n",
       "309   3 km from Chhatrapati Shivaji International Ai...                 2   \n",
       "321   Location Hotel Royal Garden is situated on Juh...                 3   \n",
       "334   City Guest House is a beautiful property locat...                 2   \n",
       "1238  Sai Residency Hotel is situated in the City of...                 2   \n",
       "\n",
       "     image_urls                                       in_your_room  \\\n",
       "294         NaN  Bathroom Toiletries|Attached Bathroom|Hot & Co...   \n",
       "309         NaN  Bathroom Toiletries|Daily Newspaper|Kitchenett...   \n",
       "321         NaN  Electronic Safe|Bathroom Toiletries|Daily News...   \n",
       "334         NaN  Bathroom Toiletries|Hot/cold Water|Attached Ba...   \n",
       "1238        NaN  Bathroom Toiletries|Attached Bathroom|Hot & Co...   \n",
       "\n",
       "     is_value_plus  ...  property_type                        qts  \\\n",
       "294             no  ...          Hotel  2016-08-28 16:13:39 +0000   \n",
       "309             no  ...          Hotel  2016-08-28 16:13:39 +0000   \n",
       "321             no  ...          Hotel  2016-08-28 16:13:39 +0000   \n",
       "334             no  ...          Hotel  2016-08-28 16:13:39 +0000   \n",
       "1238            no  ...          Hotel  2016-08-22 22:10:53 +0000   \n",
       "\n",
       "               query_time_stamp  \\\n",
       "294   2016-08-28 16:13:39 +0000   \n",
       "309   2016-08-28 16:13:39 +0000   \n",
       "321   2016-08-28 16:13:39 +0000   \n",
       "334   2016-08-28 16:13:39 +0000   \n",
       "1238  2016-08-22 22:10:53 +0000   \n",
       "\n",
       "                                             room_types  site_review_count  \\\n",
       "294   Ac Superior Room|A/c Standard Rooms Double Occ...                NaN   \n",
       "309                                    Executive|Deluxe                NaN   \n",
       "321                                  Superior Executive                NaN   \n",
       "334   Standard Room|Deluxe Room|Triple Deluxe Room|S...                NaN   \n",
       "1238                              Deluxe Dbl Air Cooled                NaN   \n",
       "\n",
       "     site_review_rating    sitename        state  \\\n",
       "294                 NaN  makemytrip  Maharashtra   \n",
       "309                 NaN  makemytrip    Maharasta   \n",
       "321                 NaN  makemytrip  Maharashtra   \n",
       "334                 NaN  makemytrip  Maharashtra   \n",
       "1238                NaN  makemytrip  MAHARASHTRA   \n",
       "\n",
       "                                       traveller_rating  \\\n",
       "294                                                 NaN   \n",
       "309   Location:3.2/5 | Hospitality:3.1/5 | Facilitie...   \n",
       "321   Location:4.5/5 | Hospitality:3.4/5 | Facilitie...   \n",
       "334   Location:4.3/5 | Hospitality:3.8/5 | Facilitie...   \n",
       "1238                                                NaN   \n",
       "\n",
       "                               uniq_id  \n",
       "294   d78fae90ef2e1b5c2dfd547c61763a25  \n",
       "309   030865f741982beb373efddecdc6d6c3  \n",
       "321   a1ced509350038775a7700ec67796bc2  \n",
       "334   f2820ae7707668ed6906bb227921f720  \n",
       "1238  b4af24952027ffbcd85a91bb6fe23f5d  \n",
       "\n",
       "[5 rows x 33 columns]"
      ]
     },
     "execution_count": 31,
     "metadata": {},
     "output_type": "execute_result"
    }
   ],
   "source": [
    "data.head(5)"
   ]
  },
  {
   "cell_type": "markdown",
   "id": "e67f01b7",
   "metadata": {},
   "source": [
    "#### 7) Keeping only hotel_overview column"
   ]
  },
  {
   "cell_type": "code",
   "execution_count": 32,
   "id": "34a58e01-cc99-4826-98e1-3c1ebb2ee213",
   "metadata": {
    "id": "34a58e01-cc99-4826-98e1-3c1ebb2ee213"
   },
   "outputs": [],
   "source": [
    "data = data.hotel_overview\n",
    "data = data.dropna()"
   ]
  },
  {
   "cell_type": "markdown",
   "id": "62bd69a8-31dd-4d18-9ec8-c04e08b1f7b5",
   "metadata": {
    "id": "62bd69a8-31dd-4d18-9ec8-c04e08b1f7b5"
   },
   "source": [
    "#### Data preprocessing"
   ]
  },
  {
   "cell_type": "markdown",
   "id": "920f84c2",
   "metadata": {},
   "source": [
    "#### 8) Preprocessing our data"
   ]
  },
  {
   "cell_type": "code",
   "execution_count": 33,
   "id": "7bb268da-d794-433c-9564-9d9139b53503",
   "metadata": {
    "id": "7bb268da-d794-433c-9564-9d9139b53503"
   },
   "outputs": [],
   "source": [
    "stop = set(stopwords.words('english'))\n",
    "def stopwords_removal(data_point):\n",
    "    data = [x for x in data_point.split() if x not in stop]\n",
    "    return data"
   ]
  },
  {
   "cell_type": "markdown",
   "id": "dd4659c8",
   "metadata": {},
   "source": [
    "#### 9) Performing data cleansing"
   ]
  },
  {
   "cell_type": "code",
   "execution_count": 34,
   "id": "2e2bfff1-938b-4aa4-9385-a04b109cd735",
   "metadata": {
    "id": "2e2bfff1-938b-4aa4-9385-a04b109cd735"
   },
   "outputs": [],
   "source": [
    "def clean_data(data):\n",
    "    cleaned_data = []\n",
    "    all_unique_words_in_each_description = []\n",
    "    for entry in data:\n",
    "        entry = re.sub(pattern='[^a-zA-Z]',repl=' ',string = entry)\n",
    "        entry = re.sub(r'\\b\\w{0,1}\\b', repl=' ',string = entry)\n",
    "        entry = entry.lower()\n",
    "        entry = stopwords_removal(entry)\n",
    "        cleaned_data.append(entry)\n",
    "        unique = list(set(entry))\n",
    "        all_unique_words_in_each_description.extend(unique)\n",
    "    return cleaned_data, all_unique_words_in_each_description"
   ]
  },
  {
   "cell_type": "markdown",
   "id": "25452776",
   "metadata": {},
   "source": [
    "#### 10) Extracting unique words in our data "
   ]
  },
  {
   "cell_type": "code",
   "execution_count": 35,
   "id": "46ada42d-3a6e-4faa-bfec-2b145c7626ce",
   "metadata": {
    "id": "46ada42d-3a6e-4faa-bfec-2b145c7626ce"
   },
   "outputs": [],
   "source": [
    "def unique_words(data):\n",
    "    unique_words = set(all_unique_words_in_each_description)\n",
    "    return unique_words, len(unique_words)"
   ]
  },
  {
   "cell_type": "markdown",
   "id": "62d144c4",
   "metadata": {},
   "source": [
    "#### 11) Applying data cleansing and finding the unique words"
   ]
  },
  {
   "cell_type": "code",
   "execution_count": 36,
   "id": "ee72dc78-ca7d-4974-af5c-33db11a34a77",
   "metadata": {
    "id": "ee72dc78-ca7d-4974-af5c-33db11a34a77"
   },
   "outputs": [],
   "source": [
    "cleaned_data, all_unique_words_in_each_description = clean_data(data)\n",
    "unique_words, length_of_unique_words = unique_words(all_unique_words_in_each_description)"
   ]
  },
  {
   "cell_type": "markdown",
   "id": "e8c90a30",
   "metadata": {},
   "source": [
    "#### 12) Checking out the Cleaned data"
   ]
  },
  {
   "cell_type": "code",
   "execution_count": 37,
   "id": "39d531df-df7e-40cd-84df-c44b6e4468e8",
   "metadata": {
    "id": "39d531df-df7e-40cd-84df-c44b6e4468e8",
    "outputId": "5049312f-c9b9-4abe-9c51-195722436039"
   },
   "outputs": [
    {
     "data": {
      "text/plain": [
       "['nestled',\n",
       " 'mumbai',\n",
       " 'city',\n",
       " 'strong',\n",
       " 'historical',\n",
       " 'links',\n",
       " 'wonderful',\n",
       " 'british',\n",
       " 'architecture',\n",
       " 'museums',\n",
       " 'beaches',\n",
       " 'places',\n",
       " 'worship',\n",
       " 'true',\n",
       " 'galaxy',\n",
       " 'stars',\n",
       " 'bollywood',\n",
       " 'reigns',\n",
       " 'supreme',\n",
       " 'hotel',\n",
       " 'divya',\n",
       " 'international',\n",
       " 'delightful',\n",
       " 'leisure',\n",
       " 'absolute',\n",
       " 'blend',\n",
       " 'service',\n",
       " 'charm',\n",
       " 'efficiency',\n",
       " 'hotel',\n",
       " 'offers',\n",
       " 'facilities',\n",
       " 'like',\n",
       " 'front',\n",
       " 'desk',\n",
       " 'parking',\n",
       " 'laundry',\n",
       " 'doctor',\n",
       " 'call',\n",
       " 'many',\n",
       " 'aims',\n",
       " 'extend',\n",
       " 'best',\n",
       " 'possible',\n",
       " 'hospitality',\n",
       " 'experience',\n",
       " 'revered',\n",
       " 'customers',\n",
       " 'hotel',\n",
       " 'located',\n",
       " 'distance',\n",
       " 'workshop',\n",
       " 'bus',\n",
       " 'stop',\n",
       " 'km',\n",
       " 'chhatrapati',\n",
       " 'shivaji',\n",
       " 'international',\n",
       " 'airport',\n",
       " 'km',\n",
       " 'chhatrapati',\n",
       " 'shivaji',\n",
       " 'terminus',\n",
       " 'guests',\n",
       " 'head',\n",
       " 'prominent',\n",
       " 'tourist',\n",
       " 'attractions',\n",
       " 'like',\n",
       " 'sanjay',\n",
       " 'gandhi',\n",
       " 'national',\n",
       " 'park',\n",
       " 'kidzania',\n",
       " 'mumbai',\n",
       " 'haji',\n",
       " 'ali',\n",
       " 'mosque',\n",
       " 'iskon',\n",
       " 'temple',\n",
       " 'shree',\n",
       " 'siddhivinayak',\n",
       " 'temple',\n",
       " 'many',\n",
       " 'shoppers',\n",
       " 'fun',\n",
       " 'filled',\n",
       " 'shopping',\n",
       " 'experience',\n",
       " 'shopping',\n",
       " 'viviana',\n",
       " 'mall',\n",
       " 'km',\n",
       " 'food',\n",
       " 'lovers',\n",
       " 'visit',\n",
       " 'nearby',\n",
       " 'restaurants',\n",
       " 'try',\n",
       " 'local',\n",
       " 'delights',\n",
       " 'hotel',\n",
       " 'well',\n",
       " 'appointed',\n",
       " 'rooms',\n",
       " 'appeal',\n",
       " 'piligrims',\n",
       " 'business',\n",
       " 'guests',\n",
       " 'well',\n",
       " 'leisure',\n",
       " 'travelers',\n",
       " 'seeking',\n",
       " 'relaxing',\n",
       " 'trip',\n",
       " 'rooms',\n",
       " 'hotel',\n",
       " 'fully',\n",
       " 'furnished',\n",
       " 'spacious',\n",
       " 'equipped',\n",
       " 'telephone',\n",
       " 'wardrobes',\n",
       " 'comfortable',\n",
       " 'beds',\n",
       " 'neat',\n",
       " 'clean',\n",
       " 'bathrooms',\n",
       " 'essential',\n",
       " 'bathrooms',\n",
       " 'amenities',\n",
       " 'memorable',\n",
       " 'stay',\n",
       " 'hotel',\n",
       " 'divya',\n",
       " 'international']"
      ]
     },
     "execution_count": 37,
     "metadata": {},
     "output_type": "execute_result"
    }
   ],
   "source": [
    "cleaned_data[0]"
   ]
  },
  {
   "cell_type": "markdown",
   "id": "cddbe34e",
   "metadata": {},
   "source": [
    "#### 13) Total number of unique words in the data"
   ]
  },
  {
   "cell_type": "code",
   "execution_count": 38,
   "id": "44dc1201-8501-423d-a702-3d753dc2e826",
   "metadata": {
    "id": "44dc1201-8501-423d-a702-3d753dc2e826",
    "outputId": "edcb6a46-8f6d-4f89-dea0-4fd18e4e76f6"
   },
   "outputs": [
    {
     "data": {
      "text/plain": [
       "3395"
      ]
     },
     "execution_count": 38,
     "metadata": {},
     "output_type": "execute_result"
    }
   ],
   "source": [
    "\n",
    "length_of_unique_words"
   ]
  },
  {
   "cell_type": "markdown",
   "id": "bf796ef6-11b0-4145-84f4-4090b91023a9",
   "metadata": {
    "id": "bf796ef6-11b0-4145-84f4-4090b91023a9"
   },
   "source": [
    "#### 14)  Building a mapping of words to an index and a reverse mapping from an index to a word"
   ]
  },
  {
   "cell_type": "code",
   "execution_count": 39,
   "id": "b6bb4d1d-8873-41cf-ae0a-b99ab9f36f73",
   "metadata": {
    "id": "b6bb4d1d-8873-41cf-ae0a-b99ab9f36f73"
   },
   "outputs": [],
   "source": [
    "def build_indices(unique_words):\n",
    "    word_to_idx = {}\n",
    "    idx_to_word = {}\n",
    "    for i, word in enumerate(unique_words):\n",
    "        word_to_idx[word] = i\n",
    "        idx_to_word[i] = word\n",
    "    return word_to_idx, idx_to_word"
   ]
  },
  {
   "cell_type": "markdown",
   "id": "437dda62",
   "metadata": {},
   "source": [
    "#### 15) Building our indices"
   ]
  },
  {
   "cell_type": "code",
   "execution_count": 40,
   "id": "824a51f1-af4b-4dbd-ac04-6992207fef39",
   "metadata": {
    "id": "824a51f1-af4b-4dbd-ac04-6992207fef39"
   },
   "outputs": [],
   "source": [
    "\n",
    "word_to_idx, idx_to_word = build_indices(unique_words)"
   ]
  },
  {
   "cell_type": "markdown",
   "id": "a895ff64-a04c-4768-9de0-03fdcf349e8f",
   "metadata": {
    "id": "a895ff64-a04c-4768-9de0-03fdcf349e8f"
   },
   "source": [
    "#### 16) Preparing our training corpus"
   ]
  },
  {
   "cell_type": "code",
   "execution_count": 41,
   "id": "30e3b92a-9f34-4405-aa01-f5ee1d483424",
   "metadata": {
    "id": "30e3b92a-9f34-4405-aa01-f5ee1d483424"
   },
   "outputs": [],
   "source": [
    "def prepare_corpus(corpus, word_to_idx):\n",
    "    \n",
    "    sequences = []\n",
    "    for line in corpus:\n",
    "        tokens = line\n",
    "        for i in range(1, len(tokens)):\n",
    "            i_gram_sequence = tokens[:i+1]\n",
    "            i_gram_sequence_ids = []\n",
    "            \n",
    "            for j, token in enumerate(i_gram_sequence):\n",
    "                i_gram_sequence_ids.append(word_to_idx[token])\n",
    "                \n",
    "            sequences.append(i_gram_sequence_ids)\n",
    "    \n",
    "    return sequences"
   ]
  },
  {
   "cell_type": "code",
   "execution_count": 42,
   "id": "f7ab3741-4b7f-40ac-b76c-f4cb39538a17",
   "metadata": {
    "id": "f7ab3741-4b7f-40ac-b76c-f4cb39538a17"
   },
   "outputs": [],
   "source": [
    "# Calling the prepare_corpus method\n",
    "sequences = prepare_corpus(cleaned_data, word_to_idx)\n",
    "max_sequence_len = max([len(x) for x in sequences])"
   ]
  },
  {
   "cell_type": "markdown",
   "id": "d3d81fc7-fe90-4366-b648-1c165d6fa4a6",
   "metadata": {
    "id": "d3d81fc7-fe90-4366-b648-1c165d6fa4a6"
   },
   "source": [
    "#### 17) Validating what we built just now"
   ]
  },
  {
   "cell_type": "code",
   "execution_count": 43,
   "id": "c1d561d5-cc4b-4c16-8872-944d232e5ae1",
   "metadata": {
    "id": "c1d561d5-cc4b-4c16-8872-944d232e5ae1",
    "outputId": "8e0e5bce-1172-4545-c21e-74786b976c65"
   },
   "outputs": [
    {
     "name": "stdout",
     "output_type": "stream",
     "text": [
      "[948, 1516]\n",
      "[948, 1516, 13]\n"
     ]
    }
   ],
   "source": [
    "print(sequences[0])\n",
    "print(sequences[1])"
   ]
  },
  {
   "cell_type": "markdown",
   "id": "2dd8b219-57d6-4359-b8b1-6d396145399a",
   "metadata": {
    "id": "2dd8b219-57d6-4359-b8b1-6d396145399a"
   },
   "source": [
    "#### 18) Words that are mapped to these indices"
   ]
  },
  {
   "cell_type": "code",
   "execution_count": 44,
   "id": "c0858bfe-6943-4bc7-b294-7f360de25f05",
   "metadata": {
    "id": "c0858bfe-6943-4bc7-b294-7f360de25f05",
    "outputId": "1d56557b-3b98-45a5-92e0-8916009feb0f"
   },
   "outputs": [
    {
     "name": "stdout",
     "output_type": "stream",
     "text": [
      "iris\n",
      "channel\n",
      "enterprises\n"
     ]
    }
   ],
   "source": [
    "print(idx_to_word[1647])\n",
    "print(idx_to_word[867])\n",
    "print(idx_to_word[1452])"
   ]
  },
  {
   "cell_type": "markdown",
   "id": "2766b051-02e5-49ea-8b08-4e01848a3b06",
   "metadata": {
    "id": "2766b051-02e5-49ea-8b08-4e01848a3b06"
   },
   "source": [
    "#### 19) Some metadata about the sequences built"
   ]
  },
  {
   "cell_type": "code",
   "execution_count": 45,
   "id": "02c663a4-bd0a-491a-828d-8dec549ee472",
   "metadata": {
    "id": "02c663a4-bd0a-491a-828d-8dec549ee472",
    "outputId": "d886602f-2b7d-425c-eef4-bd9809a7ac6f"
   },
   "outputs": [
    {
     "data": {
      "text/plain": [
       "51836"
      ]
     },
     "execution_count": 45,
     "metadata": {},
     "output_type": "execute_result"
    }
   ],
   "source": [
    "# Total number of sequences\n",
    "len(sequences)"
   ]
  },
  {
   "cell_type": "code",
   "execution_count": 46,
   "id": "687f14b2-2bce-4a4d-a302-b7316808c679",
   "metadata": {
    "id": "687f14b2-2bce-4a4d-a302-b7316808c679",
    "outputId": "e56f76d1-9887-4f46-8b07-1fdea54b85ea"
   },
   "outputs": [
    {
     "data": {
      "text/plain": [
       "308"
      ]
     },
     "execution_count": 46,
     "metadata": {},
     "output_type": "execute_result"
    }
   ],
   "source": [
    "# Size of the longest sequence\n",
    "max_sequence_len"
   ]
  },
  {
   "cell_type": "markdown",
   "id": "a981675e-892f-47fe-b33a-9421142e2d81",
   "metadata": {
    "id": "a981675e-892f-47fe-b33a-9421142e2d81"
   },
   "source": [
    "## Building the text generator\n",
    "\n",
    "#### 1) Defining build_input_data which splits our data into independent and dependent variables and also for padding the input samples"
   ]
  },
  {
   "cell_type": "code",
   "execution_count": 47,
   "id": "804cbb29-2c8d-49db-91d6-00dc52f724a5",
   "metadata": {
    "id": "804cbb29-2c8d-49db-91d6-00dc52f724a5"
   },
   "outputs": [],
   "source": [
    "def build_input_data(sequences, max_sequence_len, length_of_unique_words):\n",
    "    sequences = np.array(pad_sequences(sequences, maxlen = max_sequence_len, padding = 'pre'))\n",
    "    X = sequences[:,:-1]\n",
    "    y = sequences[:,-1]\n",
    "    y = np_utils.to_categorical(y, length_of_unique_words)\n",
    "    return X, y"
   ]
  },
  {
   "cell_type": "code",
   "execution_count": 48,
   "id": "6da89722-baad-4f40-9ecf-effcbc010da6",
   "metadata": {
    "id": "6da89722-baad-4f40-9ecf-effcbc010da6"
   },
   "outputs": [],
   "source": [
    "X, y = build_input_data(sequences, max_sequence_len, length_of_unique_words)"
   ]
  },
  {
   "cell_type": "markdown",
   "id": "96f5eb84-df6a-4832-aadd-326e6ff627ea",
   "metadata": {
    "id": "96f5eb84-df6a-4832-aadd-326e6ff627ea"
   },
   "source": [
    "#### 2) Defining and building our model"
   ]
  },
  {
   "cell_type": "code",
   "execution_count": 49,
   "id": "96a4e5f9-2948-41ab-a40c-c14470f11358",
   "metadata": {
    "id": "96a4e5f9-2948-41ab-a40c-c14470f11358"
   },
   "outputs": [],
   "source": [
    "def create_model(max_sequence_len, length_of_unique_words):\n",
    "    model = Sequential()\n",
    "    model.add(Embedding(length_of_unique_words, 10, input_length=max_sequence_len - 1))\n",
    "    model.add(LSTM(128))\n",
    "    model.add(Dropout(0.2))\n",
    "    model.add(Dense(length_of_unique_words, activation='softmax'))\n",
    "    model.compile(loss='categorical_crossentropy', optimizer='adam')\n",
    "    return model"
   ]
  },
  {
   "cell_type": "markdown",
   "id": "dd7728a3",
   "metadata": {},
   "source": [
    "#### 3) Creating the model and checking its summary"
   ]
  },
  {
   "cell_type": "code",
   "execution_count": 50,
   "id": "87d71bd6-f07a-4bb7-8a7e-7b478a3c2b03",
   "metadata": {
    "id": "87d71bd6-f07a-4bb7-8a7e-7b478a3c2b03",
    "outputId": "357375ec-e30f-4b00-99cd-82c29a13208f"
   },
   "outputs": [
    {
     "name": "stdout",
     "output_type": "stream",
     "text": [
      "Model: \"sequential_1\"\n",
      "_________________________________________________________________\n",
      " Layer (type)                Output Shape              Param #   \n",
      "=================================================================\n",
      " embedding (Embedding)       (None, 307, 10)           33950     \n",
      "                                                                 \n",
      " lstm (LSTM)                 (None, 128)               71168     \n",
      "                                                                 \n",
      " dropout_2 (Dropout)         (None, 128)               0         \n",
      "                                                                 \n",
      " dense_3 (Dense)             (None, 3395)              437955    \n",
      "                                                                 \n",
      "=================================================================\n",
      "Total params: 543,073\n",
      "Trainable params: 543,073\n",
      "Non-trainable params: 0\n",
      "_________________________________________________________________\n"
     ]
    }
   ],
   "source": [
    "model = create_model(max_sequence_len, length_of_unique_words)\n",
    "model.summary()"
   ]
  },
  {
   "cell_type": "markdown",
   "id": "15793bb0-6eb4-41ee-984b-365f28c529f6",
   "metadata": {
    "id": "15793bb0-6eb4-41ee-984b-365f28c529f6"
   },
   "source": [
    "#### 4) Training the model"
   ]
  },
  {
   "cell_type": "code",
   "execution_count": 51,
   "id": "fbf3cc76-8a4e-4433-82f2-ddc481e34b79",
   "metadata": {
    "id": "fbf3cc76-8a4e-4433-82f2-ddc481e34b79",
    "outputId": "4415e8a3-2bbb-456b-a256-7b0ed63b128b"
   },
   "outputs": [
    {
     "name": "stdout",
     "output_type": "stream",
     "text": [
      "Epoch 1/100\n",
      "102/102 [==============================] - 227s 2s/step - loss: 6.9262\n",
      "Epoch 2/100\n",
      "102/102 [==============================] - 249s 2s/step - loss: 6.5686\n",
      "Epoch 3/100\n",
      "102/102 [==============================] - 251s 2s/step - loss: 6.5031\n",
      "Epoch 4/100\n",
      "102/102 [==============================] - 254s 2s/step - loss: 6.4417\n",
      "Epoch 5/100\n",
      "102/102 [==============================] - 254s 2s/step - loss: 6.3652\n",
      "Epoch 6/100\n",
      "102/102 [==============================] - 255s 3s/step - loss: 6.2593\n",
      "Epoch 7/100\n",
      "102/102 [==============================] - 258s 3s/step - loss: 6.1976\n",
      "Epoch 8/100\n",
      "102/102 [==============================] - 258s 3s/step - loss: 6.0200\n",
      "Epoch 9/100\n",
      "102/102 [==============================] - 259s 3s/step - loss: 5.8923\n",
      "Epoch 10/100\n",
      "102/102 [==============================] - 260s 3s/step - loss: 5.7815\n",
      "Epoch 11/100\n",
      "102/102 [==============================] - 261s 3s/step - loss: 5.6750\n",
      "Epoch 12/100\n",
      "102/102 [==============================] - 261s 3s/step - loss: 5.5651\n",
      "Epoch 13/100\n",
      "102/102 [==============================] - 262s 3s/step - loss: 5.4509\n",
      "Epoch 14/100\n",
      "102/102 [==============================] - 263s 3s/step - loss: 5.3433\n",
      "Epoch 15/100\n",
      "102/102 [==============================] - 263s 3s/step - loss: 5.2681\n",
      "Epoch 16/100\n",
      "102/102 [==============================] - 264s 3s/step - loss: 5.1637\n",
      "Epoch 17/100\n",
      "102/102 [==============================] - 264s 3s/step - loss: 5.0679\n",
      "Epoch 18/100\n",
      "102/102 [==============================] - 266s 3s/step - loss: 4.9790\n",
      "Epoch 19/100\n",
      "102/102 [==============================] - 265s 3s/step - loss: 4.9020\n",
      "Epoch 20/100\n",
      "102/102 [==============================] - 267s 3s/step - loss: 4.8216\n",
      "Epoch 21/100\n",
      "102/102 [==============================] - 268s 3s/step - loss: 4.7444\n",
      "Epoch 22/100\n",
      "102/102 [==============================] - 270s 3s/step - loss: 4.6754\n",
      "Epoch 23/100\n",
      "102/102 [==============================] - 292s 3s/step - loss: 4.6087\n",
      "Epoch 24/100\n",
      "102/102 [==============================] - 296s 3s/step - loss: 4.5441\n",
      "Epoch 25/100\n",
      "102/102 [==============================] - 296s 3s/step - loss: 4.4839\n",
      "Epoch 26/100\n",
      "102/102 [==============================] - 292s 3s/step - loss: 4.4212\n",
      "Epoch 27/100\n",
      "102/102 [==============================] - 289s 3s/step - loss: 4.3606\n",
      "Epoch 28/100\n",
      "102/102 [==============================] - 299s 3s/step - loss: 4.2989\n",
      "Epoch 29/100\n",
      "102/102 [==============================] - 305s 3s/step - loss: 4.2451\n",
      "Epoch 30/100\n",
      "102/102 [==============================] - 303s 3s/step - loss: 4.1933\n",
      "Epoch 31/100\n",
      "102/102 [==============================] - 304s 3s/step - loss: 4.1381\n",
      "Epoch 32/100\n",
      "102/102 [==============================] - 286s 3s/step - loss: 4.0841\n",
      "Epoch 33/100\n",
      "102/102 [==============================] - 279s 3s/step - loss: 4.0360\n",
      "Epoch 34/100\n",
      "102/102 [==============================] - 280s 3s/step - loss: 3.9856\n",
      "Epoch 35/100\n",
      "102/102 [==============================] - 280s 3s/step - loss: 3.9378\n",
      "Epoch 36/100\n",
      "102/102 [==============================] - 280s 3s/step - loss: 3.8912\n",
      "Epoch 37/100\n",
      "102/102 [==============================] - 283s 3s/step - loss: 3.8490\n",
      "Epoch 38/100\n",
      "102/102 [==============================] - 289s 3s/step - loss: 3.8083\n",
      "Epoch 39/100\n",
      "102/102 [==============================] - 295s 3s/step - loss: 3.7642\n",
      "Epoch 40/100\n",
      "102/102 [==============================] - 286s 3s/step - loss: 3.7282\n",
      "Epoch 41/100\n",
      "102/102 [==============================] - 287s 3s/step - loss: 3.6850\n",
      "Epoch 42/100\n",
      "102/102 [==============================] - 289s 3s/step - loss: 3.6406\n",
      "Epoch 43/100\n",
      "102/102 [==============================] - 289s 3s/step - loss: 3.6079\n",
      "Epoch 44/100\n",
      "102/102 [==============================] - 289s 3s/step - loss: 3.5734\n",
      "Epoch 45/100\n",
      "102/102 [==============================] - 289s 3s/step - loss: 3.5389\n",
      "Epoch 46/100\n",
      "102/102 [==============================] - 291s 3s/step - loss: 3.5023\n",
      "Epoch 47/100\n",
      "102/102 [==============================] - 291s 3s/step - loss: 3.4691\n",
      "Epoch 48/100\n",
      "102/102 [==============================] - 291s 3s/step - loss: 3.4358\n",
      "Epoch 49/100\n",
      "102/102 [==============================] - 291s 3s/step - loss: 3.4095\n",
      "Epoch 50/100\n",
      "102/102 [==============================] - 293s 3s/step - loss: 3.3742\n",
      "Epoch 51/100\n",
      "102/102 [==============================] - 292s 3s/step - loss: 3.3444\n",
      "Epoch 52/100\n",
      "102/102 [==============================] - 293s 3s/step - loss: 3.3173\n",
      "Epoch 53/100\n",
      "102/102 [==============================] - 294s 3s/step - loss: 3.2838\n",
      "Epoch 54/100\n",
      "102/102 [==============================] - 295s 3s/step - loss: 3.2567\n",
      "Epoch 55/100\n",
      "102/102 [==============================] - 304s 3s/step - loss: 3.2276\n",
      "Epoch 56/100\n",
      "102/102 [==============================] - 306s 3s/step - loss: 3.2027\n",
      "Epoch 57/100\n",
      "102/102 [==============================] - 301s 3s/step - loss: 3.1802\n",
      "Epoch 58/100\n",
      "102/102 [==============================] - 295s 3s/step - loss: 3.1571\n",
      "Epoch 59/100\n",
      "102/102 [==============================] - 295s 3s/step - loss: 3.1250\n",
      "Epoch 60/100\n",
      "102/102 [==============================] - 296s 3s/step - loss: 3.1049\n",
      "Epoch 61/100\n",
      "102/102 [==============================] - 296s 3s/step - loss: 3.0758\n",
      "Epoch 62/100\n",
      "102/102 [==============================] - 303s 3s/step - loss: 3.0568\n",
      "Epoch 63/100\n",
      "102/102 [==============================] - 309s 3s/step - loss: 3.0342\n",
      "Epoch 64/100\n",
      " 32/102 [========>.....................] - ETA: 3:26 - loss: 3.0021"
     ]
    }
   ],
   "source": [
    "model.fit(X, y, batch_size = 512, epochs=100)"
   ]
  },
  {
   "cell_type": "markdown",
   "id": "d1e52b49-cce1-4ecf-8f67-00436e556ef8",
   "metadata": {
    "id": "d1e52b49-cce1-4ecf-8f67-00436e556ef8"
   },
   "source": [
    "#### 5) Testing the model"
   ]
  },
  {
   "cell_type": "code",
   "execution_count": null,
   "id": "cd8d9a59-cc69-49e7-aa56-17e937088174",
   "metadata": {
    "id": "cd8d9a59-cc69-49e7-aa56-17e937088174"
   },
   "outputs": [],
   "source": [
    "def generate_text(seed_text, next_words, model, max_seq_len):\n",
    "    for _ in range(next_words):\n",
    "        cleaned_data = clean_data([seed_text])\n",
    "        sequences= prepare_corpus(cleaned_data[0], word_to_idx)\n",
    "        sequences = pad_sequences([sequences[-1]], maxlen=max_seq_len-1, padding='pre')\n",
    "        predicted = model.predict_classes(sequences, verbose=0)\n",
    "        output_word = ''\n",
    "        output_word = idx_to_word[predicted[0]]            \n",
    "        seed_text = seed_text + \" \" + output_word\n",
    "        \n",
    "    return seed_text.title()"
   ]
  },
  {
   "cell_type": "code",
   "execution_count": null,
   "id": "995b9a97-ca71-4dce-97f2-b7e882112831",
   "metadata": {
    "id": "995b9a97-ca71-4dce-97f2-b7e882112831",
    "outputId": "a02cf87f-7442-4511-cf4e-50d5f9e36ebc"
   },
   "outputs": [],
   "source": [
    "print(generate_text(\"in Mumbai there we need\", 30, model, max_sequence_len))"
   ]
  },
  {
   "cell_type": "code",
   "execution_count": null,
   "id": "d92ad794-d873-4b3d-b6a7-f33b7d25723c",
   "metadata": {
    "id": "d92ad794-d873-4b3d-b6a7-f33b7d25723c",
    "outputId": "312c2125-9f42-4cc4-e3db-c85194df71a9"
   },
   "outputs": [],
   "source": [
    "print(generate_text(\"The beauty of the city\", 30, model, max_sequence_len))"
   ]
  }
 ],
 "metadata": {
  "colab": {
   "name": "Nawaraj_Rai_Practical_A8_CE_RollNo.40_COMP473.ipynb",
   "provenance": []
  },
  "kernelspec": {
   "display_name": "Python 3",
   "language": "python",
   "name": "python3"
  },
  "language_info": {
   "codemirror_mode": {
    "name": "ipython",
    "version": 3
   },
   "file_extension": ".py",
   "mimetype": "text/x-python",
   "name": "python",
   "nbconvert_exporter": "python",
   "pygments_lexer": "ipython3",
   "version": "3.9.5"
  }
 },
 "nbformat": 4,
 "nbformat_minor": 5
}
